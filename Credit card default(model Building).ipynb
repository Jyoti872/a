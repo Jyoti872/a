{
 "cells": [
  {
   "cell_type": "markdown",
   "id": "f80da1bd",
   "metadata": {},
   "source": [
    "## Prediction of Default Credit Cards-Part 2"
   ]
  },
  {
   "cell_type": "markdown",
   "id": "e380571b",
   "metadata": {},
   "source": [
    "### Content:\n",
    "\n",
    "1) Handling the imbalance data Using OverSampling, undersampling and combination of both technique.<br>\n",
    "2) Checking the recall/sensitivity for both the models .i.e. Logistics regression model and regression tress model.<br>\n",
    "3) Feature selection using the inbuilt functions from the given packages(Random forest,boruta) and Hyper parameter tuning(manual and automated).<br>\n",
    "4) Rerunning the model after feature selection and tuning, to check if there is an improvement in the acccuracy of our model or not.<br>"
   ]
  },
  {
   "cell_type": "code",
   "execution_count": 145,
   "id": "f9c711f2",
   "metadata": {},
   "outputs": [
    {
     "name": "stderr",
     "output_type": "stream",
     "text": [
      "Warning message:\n",
      "\"package 'lattice' is in use and will not be installed\"\n"
     ]
    },
    {
     "name": "stdout",
     "output_type": "stream",
     "text": [
      "package 'Boruta' successfully unpacked and MD5 sums checked\n",
      "\n",
      "The downloaded binary packages are in\n",
      "\tC:\\Users\\LENOVO\\AppData\\Local\\Temp\\RtmpEPYg5w\\downloaded_packages\n"
     ]
    }
   ],
   "source": [
    "## Loading all the packages\n",
    "\n",
    "library(caTools)        # for splitting the test and train dataset\n",
    "library(ROSE)           # loading the ROSE package for sampling technique\n",
    "library(ROCR)           # to check performance metrics\n",
    "library(randomForest)   # for random forest model\n",
    "library(ggplot2)        # for visualization\n",
    "library(lattice)         \n",
    "library(caret)          # for confusion matrix function \n",
    "install.packages(\"Boruta\")\n",
    "library(Boruta)         # Feature selection using boruta package\n"
   ]
  },
  {
   "cell_type": "code",
   "execution_count": 146,
   "id": "c55747a8",
   "metadata": {},
   "outputs": [
    {
     "data": {
      "text/html": [
       "<table class=\"dataframe\">\n",
       "<caption>A data.frame: 10 × 24</caption>\n",
       "<thead>\n",
       "\t<tr><th></th><th scope=col>LIMIT_BAL</th><th scope=col>SEX</th><th scope=col>EDUCATION</th><th scope=col>MARRIAGE</th><th scope=col>AGE</th><th scope=col>PAY_0</th><th scope=col>PAY_2</th><th scope=col>PAY_3</th><th scope=col>PAY_4</th><th scope=col>PAY_5</th><th scope=col>...</th><th scope=col>BILL_AMT4</th><th scope=col>BILL_AMT5</th><th scope=col>BILL_AMT6</th><th scope=col>PAY_AMT1</th><th scope=col>PAY_AMT2</th><th scope=col>PAY_AMT3</th><th scope=col>PAY_AMT4</th><th scope=col>PAY_AMT5</th><th scope=col>PAY_AMT6</th><th scope=col>default_payment</th></tr>\n",
       "\t<tr><th></th><th scope=col>&lt;dbl&gt;</th><th scope=col>&lt;int&gt;</th><th scope=col>&lt;int&gt;</th><th scope=col>&lt;int&gt;</th><th scope=col>&lt;int&gt;</th><th scope=col>&lt;int&gt;</th><th scope=col>&lt;int&gt;</th><th scope=col>&lt;int&gt;</th><th scope=col>&lt;int&gt;</th><th scope=col>&lt;int&gt;</th><th scope=col>...</th><th scope=col>&lt;dbl&gt;</th><th scope=col>&lt;dbl&gt;</th><th scope=col>&lt;dbl&gt;</th><th scope=col>&lt;dbl&gt;</th><th scope=col>&lt;dbl&gt;</th><th scope=col>&lt;dbl&gt;</th><th scope=col>&lt;dbl&gt;</th><th scope=col>&lt;dbl&gt;</th><th scope=col>&lt;dbl&gt;</th><th scope=col>&lt;int&gt;</th></tr>\n",
       "</thead>\n",
       "<tbody>\n",
       "\t<tr><th scope=row>2</th><td> 20000</td><td>2</td><td>2</td><td>1</td><td>24</td><td> 2</td><td> 2</td><td>-1</td><td>-1</td><td>-2</td><td>...</td><td>     0</td><td>     0</td><td>     0</td><td>    0</td><td>  689</td><td>    0</td><td>    0</td><td>    0</td><td>    0</td><td>1</td></tr>\n",
       "\t<tr><th scope=row>3</th><td>120000</td><td>2</td><td>2</td><td>2</td><td>26</td><td>-1</td><td> 2</td><td> 0</td><td> 0</td><td> 0</td><td>...</td><td>  3272</td><td>  3455</td><td>  3261</td><td>    0</td><td> 1000</td><td> 1000</td><td> 1000</td><td>    0</td><td> 2000</td><td>1</td></tr>\n",
       "\t<tr><th scope=row>4</th><td> 90000</td><td>2</td><td>2</td><td>2</td><td>34</td><td> 0</td><td> 0</td><td> 0</td><td> 0</td><td> 0</td><td>...</td><td> 14331</td><td> 14948</td><td> 15549</td><td> 1518</td><td> 1500</td><td> 1000</td><td> 1000</td><td> 1000</td><td> 5000</td><td>0</td></tr>\n",
       "\t<tr><th scope=row>5</th><td> 50000</td><td>2</td><td>2</td><td>1</td><td>37</td><td> 0</td><td> 0</td><td> 0</td><td> 0</td><td> 0</td><td>...</td><td> 28314</td><td> 28959</td><td> 29547</td><td> 2000</td><td> 2019</td><td> 1200</td><td> 1100</td><td> 1069</td><td> 1000</td><td>0</td></tr>\n",
       "\t<tr><th scope=row>6</th><td> 50000</td><td>1</td><td>2</td><td>1</td><td>57</td><td>-1</td><td> 0</td><td>-1</td><td> 0</td><td> 0</td><td>...</td><td> 20940</td><td> 19146</td><td> 19131</td><td> 2000</td><td>36681</td><td>10000</td><td> 9000</td><td>  689</td><td>  679</td><td>0</td></tr>\n",
       "\t<tr><th scope=row>7</th><td> 50000</td><td>1</td><td>1</td><td>2</td><td>37</td><td> 0</td><td> 0</td><td> 0</td><td> 0</td><td> 0</td><td>...</td><td> 19394</td><td> 19619</td><td> 20024</td><td> 2500</td><td> 1815</td><td>  657</td><td> 1000</td><td> 1000</td><td>  800</td><td>0</td></tr>\n",
       "\t<tr><th scope=row>8</th><td>500000</td><td>1</td><td>1</td><td>2</td><td>29</td><td> 0</td><td> 0</td><td> 0</td><td> 0</td><td> 0</td><td>...</td><td>542653</td><td>483003</td><td>473944</td><td>55000</td><td>40000</td><td>38000</td><td>20239</td><td>13750</td><td>13770</td><td>0</td></tr>\n",
       "\t<tr><th scope=row>9</th><td>100000</td><td>2</td><td>2</td><td>2</td><td>23</td><td> 0</td><td>-1</td><td>-1</td><td> 0</td><td> 0</td><td>...</td><td>   221</td><td>  -159</td><td>   567</td><td>  380</td><td>  601</td><td>    0</td><td>  581</td><td> 1687</td><td> 1542</td><td>0</td></tr>\n",
       "\t<tr><th scope=row>10</th><td>140000</td><td>2</td><td>3</td><td>1</td><td>28</td><td> 0</td><td> 0</td><td> 2</td><td> 0</td><td> 0</td><td>...</td><td> 12211</td><td> 11793</td><td>  3719</td><td> 3329</td><td>    0</td><td>  432</td><td> 1000</td><td> 1000</td><td> 1000</td><td>0</td></tr>\n",
       "\t<tr><th scope=row>11</th><td> 20000</td><td>1</td><td>3</td><td>2</td><td>35</td><td>-2</td><td>-2</td><td>-2</td><td>-2</td><td>-1</td><td>...</td><td>     0</td><td> 13007</td><td> 13912</td><td>    0</td><td>    0</td><td>    0</td><td>13007</td><td> 1122</td><td>    0</td><td>0</td></tr>\n",
       "</tbody>\n",
       "</table>\n"
      ],
      "text/latex": [
       "A data.frame: 10 × 24\n",
       "\\begin{tabular}{r|lllllllllllllllllllll}\n",
       "  & LIMIT\\_BAL & SEX & EDUCATION & MARRIAGE & AGE & PAY\\_0 & PAY\\_2 & PAY\\_3 & PAY\\_4 & PAY\\_5 & ... & BILL\\_AMT4 & BILL\\_AMT5 & BILL\\_AMT6 & PAY\\_AMT1 & PAY\\_AMT2 & PAY\\_AMT3 & PAY\\_AMT4 & PAY\\_AMT5 & PAY\\_AMT6 & default\\_payment\\\\\n",
       "  & <dbl> & <int> & <int> & <int> & <int> & <int> & <int> & <int> & <int> & <int> & ... & <dbl> & <dbl> & <dbl> & <dbl> & <dbl> & <dbl> & <dbl> & <dbl> & <dbl> & <int>\\\\\n",
       "\\hline\n",
       "\t2 &  20000 & 2 & 2 & 1 & 24 &  2 &  2 & -1 & -1 & -2 & ... &      0 &      0 &      0 &     0 &   689 &     0 &     0 &     0 &     0 & 1\\\\\n",
       "\t3 & 120000 & 2 & 2 & 2 & 26 & -1 &  2 &  0 &  0 &  0 & ... &   3272 &   3455 &   3261 &     0 &  1000 &  1000 &  1000 &     0 &  2000 & 1\\\\\n",
       "\t4 &  90000 & 2 & 2 & 2 & 34 &  0 &  0 &  0 &  0 &  0 & ... &  14331 &  14948 &  15549 &  1518 &  1500 &  1000 &  1000 &  1000 &  5000 & 0\\\\\n",
       "\t5 &  50000 & 2 & 2 & 1 & 37 &  0 &  0 &  0 &  0 &  0 & ... &  28314 &  28959 &  29547 &  2000 &  2019 &  1200 &  1100 &  1069 &  1000 & 0\\\\\n",
       "\t6 &  50000 & 1 & 2 & 1 & 57 & -1 &  0 & -1 &  0 &  0 & ... &  20940 &  19146 &  19131 &  2000 & 36681 & 10000 &  9000 &   689 &   679 & 0\\\\\n",
       "\t7 &  50000 & 1 & 1 & 2 & 37 &  0 &  0 &  0 &  0 &  0 & ... &  19394 &  19619 &  20024 &  2500 &  1815 &   657 &  1000 &  1000 &   800 & 0\\\\\n",
       "\t8 & 500000 & 1 & 1 & 2 & 29 &  0 &  0 &  0 &  0 &  0 & ... & 542653 & 483003 & 473944 & 55000 & 40000 & 38000 & 20239 & 13750 & 13770 & 0\\\\\n",
       "\t9 & 100000 & 2 & 2 & 2 & 23 &  0 & -1 & -1 &  0 &  0 & ... &    221 &   -159 &    567 &   380 &   601 &     0 &   581 &  1687 &  1542 & 0\\\\\n",
       "\t10 & 140000 & 2 & 3 & 1 & 28 &  0 &  0 &  2 &  0 &  0 & ... &  12211 &  11793 &   3719 &  3329 &     0 &   432 &  1000 &  1000 &  1000 & 0\\\\\n",
       "\t11 &  20000 & 1 & 3 & 2 & 35 & -2 & -2 & -2 & -2 & -1 & ... &      0 &  13007 &  13912 &     0 &     0 &     0 & 13007 &  1122 &     0 & 0\\\\\n",
       "\\end{tabular}\n"
      ],
      "text/markdown": [
       "\n",
       "A data.frame: 10 × 24\n",
       "\n",
       "| <!--/--> | LIMIT_BAL &lt;dbl&gt; | SEX &lt;int&gt; | EDUCATION &lt;int&gt; | MARRIAGE &lt;int&gt; | AGE &lt;int&gt; | PAY_0 &lt;int&gt; | PAY_2 &lt;int&gt; | PAY_3 &lt;int&gt; | PAY_4 &lt;int&gt; | PAY_5 &lt;int&gt; | ... ... | BILL_AMT4 &lt;dbl&gt; | BILL_AMT5 &lt;dbl&gt; | BILL_AMT6 &lt;dbl&gt; | PAY_AMT1 &lt;dbl&gt; | PAY_AMT2 &lt;dbl&gt; | PAY_AMT3 &lt;dbl&gt; | PAY_AMT4 &lt;dbl&gt; | PAY_AMT5 &lt;dbl&gt; | PAY_AMT6 &lt;dbl&gt; | default_payment &lt;int&gt; |\n",
       "|---|---|---|---|---|---|---|---|---|---|---|---|---|---|---|---|---|---|---|---|---|---|\n",
       "| 2 |  20000 | 2 | 2 | 1 | 24 |  2 |  2 | -1 | -1 | -2 | ... |      0 |      0 |      0 |     0 |   689 |     0 |     0 |     0 |     0 | 1 |\n",
       "| 3 | 120000 | 2 | 2 | 2 | 26 | -1 |  2 |  0 |  0 |  0 | ... |   3272 |   3455 |   3261 |     0 |  1000 |  1000 |  1000 |     0 |  2000 | 1 |\n",
       "| 4 |  90000 | 2 | 2 | 2 | 34 |  0 |  0 |  0 |  0 |  0 | ... |  14331 |  14948 |  15549 |  1518 |  1500 |  1000 |  1000 |  1000 |  5000 | 0 |\n",
       "| 5 |  50000 | 2 | 2 | 1 | 37 |  0 |  0 |  0 |  0 |  0 | ... |  28314 |  28959 |  29547 |  2000 |  2019 |  1200 |  1100 |  1069 |  1000 | 0 |\n",
       "| 6 |  50000 | 1 | 2 | 1 | 57 | -1 |  0 | -1 |  0 |  0 | ... |  20940 |  19146 |  19131 |  2000 | 36681 | 10000 |  9000 |   689 |   679 | 0 |\n",
       "| 7 |  50000 | 1 | 1 | 2 | 37 |  0 |  0 |  0 |  0 |  0 | ... |  19394 |  19619 |  20024 |  2500 |  1815 |   657 |  1000 |  1000 |   800 | 0 |\n",
       "| 8 | 500000 | 1 | 1 | 2 | 29 |  0 |  0 |  0 |  0 |  0 | ... | 542653 | 483003 | 473944 | 55000 | 40000 | 38000 | 20239 | 13750 | 13770 | 0 |\n",
       "| 9 | 100000 | 2 | 2 | 2 | 23 |  0 | -1 | -1 |  0 |  0 | ... |    221 |   -159 |    567 |   380 |   601 |     0 |   581 |  1687 |  1542 | 0 |\n",
       "| 10 | 140000 | 2 | 3 | 1 | 28 |  0 |  0 |  2 |  0 |  0 | ... |  12211 |  11793 |   3719 |  3329 |     0 |   432 |  1000 |  1000 |  1000 | 0 |\n",
       "| 11 |  20000 | 1 | 3 | 2 | 35 | -2 | -2 | -2 | -2 | -1 | ... |      0 |  13007 |  13912 |     0 |     0 |     0 | 13007 |  1122 |     0 | 0 |\n",
       "\n"
      ],
      "text/plain": [
       "   LIMIT_BAL SEX EDUCATION MARRIAGE AGE PAY_0 PAY_2 PAY_3 PAY_4 PAY_5 ...\n",
       "2   20000    2   2         1        24   2     2    -1    -1    -2    ...\n",
       "3  120000    2   2         2        26  -1     2     0     0     0    ...\n",
       "4   90000    2   2         2        34   0     0     0     0     0    ...\n",
       "5   50000    2   2         1        37   0     0     0     0     0    ...\n",
       "6   50000    1   2         1        57  -1     0    -1     0     0    ...\n",
       "7   50000    1   1         2        37   0     0     0     0     0    ...\n",
       "8  500000    1   1         2        29   0     0     0     0     0    ...\n",
       "9  100000    2   2         2        23   0    -1    -1     0     0    ...\n",
       "10 140000    2   3         1        28   0     0     2     0     0    ...\n",
       "11  20000    1   3         2        35  -2    -2    -2    -2    -1    ...\n",
       "   BILL_AMT4 BILL_AMT5 BILL_AMT6 PAY_AMT1 PAY_AMT2 PAY_AMT3 PAY_AMT4 PAY_AMT5\n",
       "2       0         0         0        0      689        0        0        0   \n",
       "3    3272      3455      3261        0     1000     1000     1000        0   \n",
       "4   14331     14948     15549     1518     1500     1000     1000     1000   \n",
       "5   28314     28959     29547     2000     2019     1200     1100     1069   \n",
       "6   20940     19146     19131     2000    36681    10000     9000      689   \n",
       "7   19394     19619     20024     2500     1815      657     1000     1000   \n",
       "8  542653    483003    473944    55000    40000    38000    20239    13750   \n",
       "9     221      -159       567      380      601        0      581     1687   \n",
       "10  12211     11793      3719     3329        0      432     1000     1000   \n",
       "11      0     13007     13912        0        0        0    13007     1122   \n",
       "   PAY_AMT6 default_payment\n",
       "2      0    1              \n",
       "3   2000    1              \n",
       "4   5000    0              \n",
       "5   1000    0              \n",
       "6    679    0              \n",
       "7    800    0              \n",
       "8  13770    0              \n",
       "9   1542    0              \n",
       "10  1000    0              \n",
       "11     0    0              "
      ]
     },
     "metadata": {},
     "output_type": "display_data"
    }
   ],
   "source": [
    "## Reading the cleaned dataset which we have used in part 1\n",
    "\n",
    "setwd(\"C:/Users/LENOVO/Downloads\")\n",
    "data2 <- read.csv(\"data2.csv\")\n",
    "head(data2,10)"
   ]
  },
  {
   "cell_type": "code",
   "execution_count": 147,
   "id": "d29309ec",
   "metadata": {},
   "outputs": [
    {
     "data": {
      "text/html": [
       "<style>\n",
       ".list-inline {list-style: none; margin:0; padding: 0}\n",
       ".list-inline>li {display: inline-block}\n",
       ".list-inline>li:not(:last-child)::after {content: \"\\00b7\"; padding: 0 .5ex}\n",
       "</style>\n",
       "<ol class=list-inline><li>'LIMIT_BAL'</li><li>'SEX'</li><li>'EDUCATION'</li><li>'MARRIAGE'</li><li>'AGE'</li><li>'PAY_0'</li><li>'PAY_2'</li><li>'PAY_3'</li><li>'PAY_4'</li><li>'PAY_5'</li><li>'PAY_6'</li><li>'BILL_AMT1'</li><li>'BILL_AMT2'</li><li>'BILL_AMT3'</li><li>'BILL_AMT4'</li><li>'BILL_AMT5'</li><li>'BILL_AMT6'</li><li>'PAY_AMT1'</li><li>'PAY_AMT2'</li><li>'PAY_AMT3'</li><li>'PAY_AMT4'</li><li>'PAY_AMT5'</li><li>'PAY_AMT6'</li><li>'default_payment'</li></ol>\n"
      ],
      "text/latex": [
       "\\begin{enumerate*}\n",
       "\\item 'LIMIT\\_BAL'\n",
       "\\item 'SEX'\n",
       "\\item 'EDUCATION'\n",
       "\\item 'MARRIAGE'\n",
       "\\item 'AGE'\n",
       "\\item 'PAY\\_0'\n",
       "\\item 'PAY\\_2'\n",
       "\\item 'PAY\\_3'\n",
       "\\item 'PAY\\_4'\n",
       "\\item 'PAY\\_5'\n",
       "\\item 'PAY\\_6'\n",
       "\\item 'BILL\\_AMT1'\n",
       "\\item 'BILL\\_AMT2'\n",
       "\\item 'BILL\\_AMT3'\n",
       "\\item 'BILL\\_AMT4'\n",
       "\\item 'BILL\\_AMT5'\n",
       "\\item 'BILL\\_AMT6'\n",
       "\\item 'PAY\\_AMT1'\n",
       "\\item 'PAY\\_AMT2'\n",
       "\\item 'PAY\\_AMT3'\n",
       "\\item 'PAY\\_AMT4'\n",
       "\\item 'PAY\\_AMT5'\n",
       "\\item 'PAY\\_AMT6'\n",
       "\\item 'default\\_payment'\n",
       "\\end{enumerate*}\n"
      ],
      "text/markdown": [
       "1. 'LIMIT_BAL'\n",
       "2. 'SEX'\n",
       "3. 'EDUCATION'\n",
       "4. 'MARRIAGE'\n",
       "5. 'AGE'\n",
       "6. 'PAY_0'\n",
       "7. 'PAY_2'\n",
       "8. 'PAY_3'\n",
       "9. 'PAY_4'\n",
       "10. 'PAY_5'\n",
       "11. 'PAY_6'\n",
       "12. 'BILL_AMT1'\n",
       "13. 'BILL_AMT2'\n",
       "14. 'BILL_AMT3'\n",
       "15. 'BILL_AMT4'\n",
       "16. 'BILL_AMT5'\n",
       "17. 'BILL_AMT6'\n",
       "18. 'PAY_AMT1'\n",
       "19. 'PAY_AMT2'\n",
       "20. 'PAY_AMT3'\n",
       "21. 'PAY_AMT4'\n",
       "22. 'PAY_AMT5'\n",
       "23. 'PAY_AMT6'\n",
       "24. 'default_payment'\n",
       "\n",
       "\n"
      ],
      "text/plain": [
       " [1] \"LIMIT_BAL\"       \"SEX\"             \"EDUCATION\"       \"MARRIAGE\"       \n",
       " [5] \"AGE\"             \"PAY_0\"           \"PAY_2\"           \"PAY_3\"          \n",
       " [9] \"PAY_4\"           \"PAY_5\"           \"PAY_6\"           \"BILL_AMT1\"      \n",
       "[13] \"BILL_AMT2\"       \"BILL_AMT3\"       \"BILL_AMT4\"       \"BILL_AMT5\"      \n",
       "[17] \"BILL_AMT6\"       \"PAY_AMT1\"        \"PAY_AMT2\"        \"PAY_AMT3\"       \n",
       "[21] \"PAY_AMT4\"        \"PAY_AMT5\"        \"PAY_AMT6\"        \"default_payment\""
      ]
     },
     "metadata": {},
     "output_type": "display_data"
    }
   ],
   "source": [
    "colnames(data2)"
   ]
  },
  {
   "cell_type": "markdown",
   "id": "3902da46",
   "metadata": {},
   "source": [
    "### As the Data is imbalance, we will use Undersampling, OverSampling techniques to check which model gives the higher accuracy and will proceed with that method."
   ]
  },
  {
   "cell_type": "markdown",
   "id": "d4f20005",
   "metadata": {},
   "source": [
    "### Splitting the dataset into training and test data for logistic model building"
   ]
  },
  {
   "cell_type": "code",
   "execution_count": 148,
   "id": "004339ae",
   "metadata": {},
   "outputs": [],
   "source": [
    "set.seed(123)\n",
    "split1 <- sample.split(data2$default_payment , SplitRatio = 0.70)\n",
    "training_set1 = subset(data2, split1 == TRUE)\n",
    "test_set1 = subset(data2, split1 == FALSE)"
   ]
  },
  {
   "cell_type": "markdown",
   "id": "10f860e0",
   "metadata": {},
   "source": [
    "#### UnderSampling Technique"
   ]
  },
  {
   "cell_type": "code",
   "execution_count": 149,
   "id": "0e72a8f3",
   "metadata": {},
   "outputs": [
    {
     "data": {
      "text/plain": [
       "\n",
       "    0     1 \n",
       "16354  4645 "
      ]
     },
     "metadata": {},
     "output_type": "display_data"
    },
    {
     "data": {
      "text/plain": [
       "\n",
       "   0    1 \n",
       "4645 4645 "
      ]
     },
     "metadata": {},
     "output_type": "display_data"
    }
   ],
   "source": [
    "table(training_set1$default_payment)\n",
    "data_balanced_under <- ovun.sample(default_payment ~ ., data = training_set1, method = \"under\", N = 9290, seed = 1)$data\n",
    "table(data_balanced_under$default_payment)"
   ]
  },
  {
   "cell_type": "code",
   "execution_count": 150,
   "id": "8856bd88",
   "metadata": {},
   "outputs": [],
   "source": [
    "#Building the model\n",
    "\n",
    "model_logistic_under <- glm(default_payment~.,data = data_balanced_under,family = \"binomial\")"
   ]
  },
  {
   "cell_type": "code",
   "execution_count": 151,
   "id": "0ee3dd3d",
   "metadata": {},
   "outputs": [
    {
     "data": {
      "text/plain": [
       "         Actual\n",
       "Predicted    0    1\n",
       "        0 5012  748\n",
       "        1 1997 1243"
      ]
     },
     "metadata": {},
     "output_type": "display_data"
    },
    {
     "data": {
      "text/html": [
       "0.695"
      ],
      "text/latex": [
       "0.695"
      ],
      "text/markdown": [
       "0.695"
      ],
      "text/plain": [
       "[1] 0.695"
      ]
     },
     "metadata": {},
     "output_type": "display_data"
    }
   ],
   "source": [
    "#Predicting the dataset\n",
    "\n",
    "p2 <- predict(model_logistic_under, test_set1 , type = 'response')\n",
    "pred2 <- ifelse(p2>0.50,1,0)\n",
    "tab2 <- table(Predicted = pred2, Actual = test_set1$default_payment)\n",
    "tab2\n",
    "1-(1 - sum(diag(tab2))/sum(tab2))\n",
    "#recall value is 71.5%"
   ]
  },
  {
   "cell_type": "code",
   "execution_count": 9,
   "id": "de62c437",
   "metadata": {},
   "outputs": [
    {
     "name": "stdout",
     "output_type": "stream",
     "text": [
      "   Accuracy Cutoff.5926 \n",
      "  0.8169437   0.6843254 \n"
     ]
    }
   ],
   "source": [
    "res <- predict(model_logistic_under,training_set1,type=\"response\")\n",
    "ROCRPRED <- prediction(res,training_set1$default_payment)\n",
    "ROCRPEF <- performance(ROCRPRED,\"tpr\",\"fpr\")\n",
    "ROCRPEF <- performance(ROCRPRED,\"acc\")\n",
    "max <- which.max(slot(ROCRPEF,\"y.values\")[[1]])\n",
    "acc <- slot(ROCRPEF,\"x.values\")[[1]][max]  #max x axis cutoff\n",
    "pp <- slot(ROCRPEF,\"y.values\")[[1]][max]\n",
    "print(c(Accuracy=pp,Cutoff=acc))"
   ]
  },
  {
   "cell_type": "markdown",
   "id": "925fd848",
   "metadata": {},
   "source": [
    "**OverSampling Technique**"
   ]
  },
  {
   "cell_type": "code",
   "execution_count": 154,
   "id": "eb98d212",
   "metadata": {},
   "outputs": [
    {
     "data": {
      "text/plain": [
       "\n",
       "    0     1 \n",
       "16354 16354 "
      ]
     },
     "metadata": {},
     "output_type": "display_data"
    }
   ],
   "source": [
    "data_balanced_over <- ovun.sample(default_payment~ ., data =training_set1, method = \"over\",N =32708)$data\n",
    "table(data_balanced_over$default_payment)"
   ]
  },
  {
   "cell_type": "code",
   "execution_count": 155,
   "id": "8549a1e0",
   "metadata": {},
   "outputs": [
    {
     "data": {
      "text/plain": [
       "         Actual\n",
       "Predicted    0    1\n",
       "        0 4978  735\n",
       "        1 2031 1256"
      ]
     },
     "metadata": {},
     "output_type": "display_data"
    },
    {
     "data": {
      "text/html": [
       "0.692666666666667"
      ],
      "text/latex": [
       "0.692666666666667"
      ],
      "text/markdown": [
       "0.692666666666667"
      ],
      "text/plain": [
       "[1] 0.6926667"
      ]
     },
     "metadata": {},
     "output_type": "display_data"
    }
   ],
   "source": [
    "#building the model\n",
    "\n",
    "model_logistic <- glm(default_payment~.,data = data_balanced_over,family = \"binomial\")\n",
    "\n",
    "#predicting the model\n",
    "p2 <- predict(model_logistic, test_set1 , type = 'response')\n",
    "pred2 <- ifelse(p2>0.50,1,0)\n",
    "tab2 <- table(Predicted = pred2, Actual = test_set1$default_payment)\n",
    "tab2\n",
    "1-(1 - sum(diag(tab2))/sum(tab2))\n",
    "#recall value is 71%"
   ]
  },
  {
   "cell_type": "code",
   "execution_count": 13,
   "id": "8ba18b71",
   "metadata": {},
   "outputs": [
    {
     "name": "stdout",
     "output_type": "stream",
     "text": [
      "    Accuracy Cutoff.20881 \n",
      "   0.8168008    0.6826678 \n"
     ]
    }
   ],
   "source": [
    "res <- predict(model_logistic ,training_set1,type=\"response\")\n",
    "ROCRPRED <- prediction(res,training_set1$default_payment)\n",
    "ROCRPEF <- performance(ROCRPRED,\"tpr\",\"fpr\")\n",
    "ROCRPEF <- performance(ROCRPRED,\"acc\")\n",
    "max <- which.max(slot(ROCRPEF,\"y.values\")[[1]])\n",
    "acc <- slot(ROCRPEF,\"x.values\")[[1]][max]  #max x axis cutoff\n",
    "pp <- slot(ROCRPEF,\"y.values\")[[1]][max]\n",
    "print(c(Accuracy=pp,Cutoff=acc))"
   ]
  },
  {
   "cell_type": "markdown",
   "id": "072ac195",
   "metadata": {},
   "source": [
    "### In this technique we are using both over and under sampling combine"
   ]
  },
  {
   "cell_type": "code",
   "execution_count": 156,
   "id": "46003718",
   "metadata": {},
   "outputs": [
    {
     "data": {
      "text/plain": [
       "\n",
       "    0     1 \n",
       "16354  4645 "
      ]
     },
     "metadata": {},
     "output_type": "display_data"
    },
    {
     "data": {
      "text/plain": [
       "\n",
       "    0     1 \n",
       "10557 10442 "
      ]
     },
     "metadata": {},
     "output_type": "display_data"
    }
   ],
   "source": [
    "table(training_set1$default_payment)\n",
    "data_balanced_both <- ovun.sample(default_payment  ~ ., data = training_set1, method = \"both\", p=0.5,N=20999,seed = 1)$data\n",
    "table(data_balanced_both$default_payment)"
   ]
  },
  {
   "cell_type": "code",
   "execution_count": 157,
   "id": "aa9e7eb8",
   "metadata": {},
   "outputs": [
    {
     "data": {
      "text/plain": [
       "\n",
       "Call:\n",
       "glm(formula = default_payment ~ ., family = \"binomial\", data = data_balanced_over)\n",
       "\n",
       "Deviance Residuals: \n",
       "    Min       1Q   Median       3Q      Max  \n",
       "-3.2919  -1.0684   0.0435   1.0595   3.3217  \n",
       "\n",
       "Coefficients:\n",
       "              Estimate Std. Error z value Pr(>|z|)    \n",
       "(Intercept)  5.389e-01  9.527e-02   5.657 1.54e-08 ***\n",
       "LIMIT_BAL   -7.813e-07  1.231e-07  -6.346 2.20e-10 ***\n",
       "SEX         -1.123e-01  2.467e-02  -4.554 5.26e-06 ***\n",
       "EDUCATION   -7.555e-02  1.748e-02  -4.323 1.54e-05 ***\n",
       "MARRIAGE    -1.628e-01  2.530e-02  -6.433 1.25e-10 ***\n",
       "AGE          6.947e-03  1.459e-03   4.760 1.93e-06 ***\n",
       "PAY_0        5.174e-01  1.374e-02  37.645  < 2e-16 ***\n",
       "PAY_2        9.757e-02  1.624e-02   6.008 1.87e-09 ***\n",
       "PAY_3        7.926e-02  1.794e-02   4.419 9.93e-06 ***\n",
       "PAY_4       -2.240e-02  1.977e-02  -1.133 0.257177    \n",
       "PAY_5        9.616e-02  2.146e-02   4.482 7.41e-06 ***\n",
       "PAY_6       -7.735e-02  1.805e-02  -4.286 1.82e-05 ***\n",
       "BILL_AMT1   -6.540e-06  8.366e-07  -7.818 5.38e-15 ***\n",
       "BILL_AMT2    4.108e-06  1.095e-06   3.753 0.000175 ***\n",
       "BILL_AMT3   -1.079e-06  9.718e-07  -1.110 0.266881    \n",
       "BILL_AMT4    4.744e-07  1.055e-06   0.450 0.652921    \n",
       "BILL_AMT5    1.237e-06  1.095e-06   1.129 0.258687    \n",
       "BILL_AMT6    4.901e-07  8.384e-07   0.585 0.558824    \n",
       "PAY_AMT1    -1.138e-05  1.442e-06  -7.890 3.02e-15 ***\n",
       "PAY_AMT2    -4.555e-06  1.172e-06  -3.887 0.000102 ***\n",
       "PAY_AMT3    -3.647e-06  1.166e-06  -3.127 0.001764 ** \n",
       "PAY_AMT4    -2.003e-06  1.184e-06  -1.692 0.090631 .  \n",
       "PAY_AMT5    -2.843e-06  1.247e-06  -2.280 0.022637 *  \n",
       "PAY_AMT6    -1.351e-06  8.927e-07  -1.513 0.130245    \n",
       "---\n",
       "Signif. codes:  0 '***' 0.001 '**' 0.01 '*' 0.05 '.' 0.1 ' ' 1\n",
       "\n",
       "(Dispersion parameter for binomial family taken to be 1)\n",
       "\n",
       "    Null deviance: 45343  on 32707  degrees of freedom\n",
       "Residual deviance: 40106  on 32684  degrees of freedom\n",
       "AIC: 40154\n",
       "\n",
       "Number of Fisher Scoring iterations: 4\n"
      ]
     },
     "metadata": {},
     "output_type": "display_data"
    }
   ],
   "source": [
    "model_logistic_both <- glm(default_payment~.,data = data_balanced_both,family = \"binomial\")\n",
    "summary(model_logistic)"
   ]
  },
  {
   "cell_type": "code",
   "execution_count": 165,
   "id": "397dfe4f",
   "metadata": {},
   "outputs": [
    {
     "data": {
      "text/plain": [
       "         Actual\n",
       "Predicted    0    1\n",
       "        0 5005  737\n",
       "        1 2004 1254"
      ]
     },
     "metadata": {},
     "output_type": "display_data"
    },
    {
     "data": {
      "text/html": [
       "0.695444444444444"
      ],
      "text/latex": [
       "0.695444444444444"
      ],
      "text/markdown": [
       "0.695444444444444"
      ],
      "text/plain": [
       "[1] 0.6954444"
      ]
     },
     "metadata": {},
     "output_type": "display_data"
    }
   ],
   "source": [
    "p2 <- predict(model_logistic_both, test_set1 , type = 'response')\n",
    "pred2 <- ifelse(p2>0.50,1,0)\n",
    "tab2 <- table(Predicted = pred2, Actual = test_set1$default_payment)\n",
    "tab2\n",
    "1-(1 - sum(diag(tab2))/sum(tab2))"
   ]
  },
  {
   "cell_type": "code",
   "execution_count": 159,
   "id": "ce610523",
   "metadata": {},
   "outputs": [],
   "source": [
    "res <- predict(model_logistic_both ,training_set1,type=\"response\")\n",
    "ROCRPRED <- prediction(res,training_set1$default_payment)\n",
    "ROCRPEF <- performance(ROCRPRED,\"tpr\",\"fpr\")\n"
   ]
  },
  {
   "cell_type": "code",
   "execution_count": 160,
   "id": "5db04917",
   "metadata": {},
   "outputs": [
    {
     "data": {
      "image/png": "[encoded data removed]",
      "text/plain": [
       "plot without title"
      ]
     },
     "metadata": {
      "image/png": {
       "height": 420,
       "width": 420
      }
     },
     "output_type": "display_data"
    }
   ],
   "source": [
    "plot(ROCRPEF,colorize=TRUE,print.cutoffs.at=seq(0.1,by=0.1))"
   ]
  },
  {
   "cell_type": "code",
   "execution_count": 161,
   "id": "1b09c344",
   "metadata": {},
   "outputs": [
    {
     "data": {
      "image/png": "[encoded data removed]",
      "text/plain": [
       "plot without title"
      ]
     },
     "metadata": {
      "image/png": {
       "height": 420,
       "width": 420
      }
     },
     "output_type": "display_data"
    }
   ],
   "source": [
    "ROCRPEF <- performance(ROCRPRED,\"acc\")\n",
    "plot(ROCRPEF)"
   ]
  },
  {
   "cell_type": "code",
   "execution_count": 162,
   "id": "e85a10c9",
   "metadata": {},
   "outputs": [
    {
     "name": "stdout",
     "output_type": "stream",
     "text": [
      "    Accuracy Cutoff.14436 \n",
      "   0.8185628    0.6717736 \n"
     ]
    }
   ],
   "source": [
    "max <- which.max(slot(ROCRPEF,\"y.values\")[[1]])\n",
    "acc <- slot(ROCRPEF,\"x.values\")[[1]][max]  #max x axis cutoff\n",
    "pp <- slot(ROCRPEF,\"y.values\")[[1]][max]\n",
    "print(c(Accuracy=pp,Cutoff=acc)) "
   ]
  },
  {
   "cell_type": "code",
   "execution_count": 163,
   "id": "64685b38",
   "metadata": {},
   "outputs": [
    {
     "data": {
      "text/plain": [
       "Area under the curve (AUC): 0.672"
      ]
     },
     "metadata": {},
     "output_type": "display_data"
    },
    {
     "data": {
      "image/png": "[encoded data removed]",
      "text/plain": [
       "Plot with title \"ROC curve\""
      ]
     },
     "metadata": {
      "image/png": {
       "height": 420,
       "width": 420
      }
     },
     "output_type": "display_data"
    }
   ],
   "source": [
    " roc.curve(test_set1$default_payment, pred2)"
   ]
  },
  {
   "cell_type": "markdown",
   "id": "7a8f15f7",
   "metadata": {},
   "source": [
    "#### From the above Cases we can see that, accuracy for all the models are almost same but the last model has slightly higher accuracy. "
   ]
  },
  {
   "cell_type": "markdown",
   "id": "4b320aa7",
   "metadata": {},
   "source": [
    "## Random Forest"
   ]
  },
  {
   "cell_type": "code",
   "execution_count": 166,
   "id": "b1fe747b",
   "metadata": {},
   "outputs": [],
   "source": [
    "data3 <- data2\n",
    "data3$default_payment <- as.factor(data2$default_payment)"
   ]
  },
  {
   "cell_type": "code",
   "execution_count": 167,
   "id": "0ff0c0fa",
   "metadata": {},
   "outputs": [],
   "source": [
    "split_random <- sample.split(data3$default_payment , SplitRatio = 0.70)\n",
    "training_set_random = subset(data3, split_random == TRUE)\n",
    "test_set_random = subset(data3, split_random == FALSE)"
   ]
  },
  {
   "cell_type": "markdown",
   "id": "a094801a",
   "metadata": {},
   "source": [
    "#### UnderSampling technique"
   ]
  },
  {
   "cell_type": "code",
   "execution_count": 168,
   "id": "1c0a28c5",
   "metadata": {},
   "outputs": [
    {
     "data": {
      "text/plain": [
       "\n",
       "   0    1 \n",
       "4645 4645 "
      ]
     },
     "metadata": {},
     "output_type": "display_data"
    },
    {
     "name": "stdout",
     "output_type": "stream",
     "text": [
      "\n",
      "Call:\n",
      " randomForest(formula = default_payment ~ ., data = data_balanced_underrf,      importance = TRUE, mtry = 4, ntree = 501) \n",
      "               Type of random forest: classification\n",
      "                     Number of trees: 501\n",
      "No. of variables tried at each split: 4\n",
      "\n",
      "        OOB estimate of  error rate: 29%\n",
      "Confusion matrix:\n",
      "     0    1 class.error\n",
      "0 3566 1079   0.2322928\n",
      "1 1615 3030   0.3476857\n"
     ]
    }
   ],
   "source": [
    "data_balanced_underrf <- ovun.sample(default_payment ~ ., data = training_set_random, method = \"under\", N = 9290, seed = 1)$data\n",
    "table(data_balanced_underrf$default_payment)\n",
    "\n",
    "\n",
    "rf_under <- randomForest(default_payment~.,data = data_balanced_underrf,importance=TRUE,mtry=4,ntree=501)\n",
    "print(rf_under)"
   ]
  },
  {
   "cell_type": "code",
   "execution_count": 169,
   "id": "a1c6a44d",
   "metadata": {},
   "outputs": [
    {
     "data": {
      "text/plain": [
       "   Actual\n",
       "p2     0    1\n",
       "  0 5379  736\n",
       "  1 1630 1255"
      ]
     },
     "metadata": {},
     "output_type": "display_data"
    },
    {
     "data": {
      "text/html": [
       "0.737111111111111"
      ],
      "text/latex": [
       "0.737111111111111"
      ],
      "text/markdown": [
       "0.737111111111111"
      ],
      "text/plain": [
       "[1] 0.7371111"
      ]
     },
     "metadata": {},
     "output_type": "display_data"
    }
   ],
   "source": [
    "p2 <- predict(rf_under, test_set_random )\n",
    "tab2 <- table(p2, Actual = test_set_random$default_payment)\n",
    "tab2\n",
    "1-(1 - sum(diag(tab2))/sum(tab2))\n",
    "#recall--0.77"
   ]
  },
  {
   "cell_type": "code",
   "execution_count": 170,
   "id": "7a886294",
   "metadata": {},
   "outputs": [
    {
     "data": {
      "text/plain": [
       "Confusion Matrix and Statistics\n",
       "\n",
       "          Reference\n",
       "Prediction    0    1\n",
       "         0 5379  736\n",
       "         1 1630 1255\n",
       "                                          \n",
       "               Accuracy : 0.7371          \n",
       "                 95% CI : (0.7279, 0.7462)\n",
       "    No Information Rate : 0.7788          \n",
       "    P-Value [Acc > NIR] : 1               \n",
       "                                          \n",
       "                  Kappa : 0.3427          \n",
       "                                          \n",
       " Mcnemar's Test P-Value : <2e-16          \n",
       "                                          \n",
       "            Sensitivity : 0.7674          \n",
       "            Specificity : 0.6303          \n",
       "         Pos Pred Value : 0.8796          \n",
       "         Neg Pred Value : 0.4350          \n",
       "             Prevalence : 0.7788          \n",
       "         Detection Rate : 0.5977          \n",
       "   Detection Prevalence : 0.6794          \n",
       "      Balanced Accuracy : 0.6989          \n",
       "                                          \n",
       "       'Positive' Class : 0               \n",
       "                                          "
      ]
     },
     "metadata": {},
     "output_type": "display_data"
    }
   ],
   "source": [
    "confusionMatrix(p2,test_set_random$default_payment)"
   ]
  },
  {
   "cell_type": "markdown",
   "id": "6fe3b2d1",
   "metadata": {},
   "source": [
    "#### Oversampling technique in Random forest"
   ]
  },
  {
   "cell_type": "code",
   "execution_count": 171,
   "id": "5939ba20",
   "metadata": {},
   "outputs": [
    {
     "data": {
      "text/plain": [
       "\n",
       "    0     1 \n",
       "16354 16354 "
      ]
     },
     "metadata": {},
     "output_type": "display_data"
    }
   ],
   "source": [
    "\n",
    "\n",
    "data_balanced_overrf <- ovun.sample(default_payment~ ., data =training_set_random, method = \"over\",N =32708)$data\n",
    "table(data_balanced_overrf$default_payment)\n"
   ]
  },
  {
   "cell_type": "code",
   "execution_count": 172,
   "id": "31fb2b09",
   "metadata": {},
   "outputs": [
    {
     "name": "stdout",
     "output_type": "stream",
     "text": [
      "\n",
      "Call:\n",
      " randomForest(formula = default_payment ~ ., data = data_balanced_overrf,      importance = TRUE, mtry = 4, ntree = 501) \n",
      "               Type of random forest: classification\n",
      "                     Number of trees: 501\n",
      "No. of variables tried at each split: 4\n",
      "\n",
      "        OOB estimate of  error rate: 5.41%\n",
      "Confusion matrix:\n",
      "      0     1 class.error\n",
      "0 14850  1504  0.09196527\n",
      "1   267 16087  0.01632628\n"
     ]
    }
   ],
   "source": [
    "rf_over <- randomForest(default_payment~.,data =data_balanced_overrf  ,importance=TRUE,mtry=4,ntree=501)\n",
    "print(rf_over)"
   ]
  },
  {
   "cell_type": "code",
   "execution_count": 173,
   "id": "1754903d",
   "metadata": {},
   "outputs": [
    {
     "data": {
      "text/plain": [
       "   Actual\n",
       "p2     0    1\n",
       "  0 6359 1113\n",
       "  1  650  878"
      ]
     },
     "metadata": {},
     "output_type": "display_data"
    },
    {
     "data": {
      "text/html": [
       "0.804111111111111"
      ],
      "text/latex": [
       "0.804111111111111"
      ],
      "text/markdown": [
       "0.804111111111111"
      ],
      "text/plain": [
       "[1] 0.8041111"
      ]
     },
     "metadata": {},
     "output_type": "display_data"
    }
   ],
   "source": [
    "p2 <- predict(rf_over, test_set_random , type = 'response')\n",
    "tab2 <- table(p2, Actual = test_set_random$default_payment)\n",
    "tab2\n",
    "1-(1 - sum(diag(tab2))/sum(tab2))"
   ]
  },
  {
   "cell_type": "code",
   "execution_count": 129,
   "id": "ab3322c2",
   "metadata": {},
   "outputs": [
    {
     "data": {
      "text/plain": [
       "Confusion Matrix and Statistics\n",
       "\n",
       "          Reference\n",
       "Prediction    0    1\n",
       "         0 6359 1113\n",
       "         1  650  878\n",
       "                                          \n",
       "               Accuracy : 0.8041          \n",
       "                 95% CI : (0.7958, 0.8123)\n",
       "    No Information Rate : 0.7788          \n",
       "    P-Value [Acc > NIR] : 2.334e-09       \n",
       "                                          \n",
       "                  Kappa : 0.3799          \n",
       "                                          \n",
       " Mcnemar's Test P-Value : < 2.2e-16       \n",
       "                                          \n",
       "            Sensitivity : 0.9073          \n",
       "            Specificity : 0.4410          \n",
       "         Pos Pred Value : 0.8510          \n",
       "         Neg Pred Value : 0.5746          \n",
       "             Prevalence : 0.7788          \n",
       "         Detection Rate : 0.7066          \n",
       "   Detection Prevalence : 0.8302          \n",
       "      Balanced Accuracy : 0.6741          \n",
       "                                          \n",
       "       'Positive' Class : 0               \n",
       "                                          "
      ]
     },
     "metadata": {},
     "output_type": "display_data"
    }
   ],
   "source": [
    "confusionMatrix(p2,test_set_random$default_payment)"
   ]
  },
  {
   "cell_type": "markdown",
   "id": "7a25e351",
   "metadata": {},
   "source": [
    "### In this technique we are using both over and under sampling combine"
   ]
  },
  {
   "cell_type": "code",
   "execution_count": 174,
   "id": "88340cb8",
   "metadata": {},
   "outputs": [
    {
     "data": {
      "text/plain": [
       "\n",
       "    0     1 \n",
       "16354  4645 "
      ]
     },
     "metadata": {},
     "output_type": "display_data"
    },
    {
     "data": {
      "text/plain": [
       "\n",
       "    0     1 \n",
       "10441 10558 "
      ]
     },
     "metadata": {},
     "output_type": "display_data"
    }
   ],
   "source": [
    "\n",
    "table(training_set_random$default_payment)\n",
    "data_balanced_bothrf <- ovun.sample(default_payment~ ., data =training_set_random, method = \"both\",N =20999)$data\n",
    "table(data_balanced_bothrf$default_payment)\n",
    "\n"
   ]
  },
  {
   "cell_type": "code",
   "execution_count": 175,
   "id": "3295e7c8",
   "metadata": {},
   "outputs": [
    {
     "name": "stdout",
     "output_type": "stream",
     "text": [
      "\n",
      "Call:\n",
      " randomForest(formula = default_payment ~ ., data = data_balanced_bothrf,      importance = TRUE, mtry = 4, ntree = 501) \n",
      "               Type of random forest: classification\n",
      "                     Number of trees: 501\n",
      "No. of variables tried at each split: 4\n",
      "\n",
      "        OOB estimate of  error rate: 6.51%\n",
      "Confusion matrix:\n",
      "     0     1 class.error\n",
      "0 9571   870  0.08332535\n",
      "1  497 10061  0.04707331\n"
     ]
    }
   ],
   "source": [
    "rf_both <- randomForest(default_payment~.,data =data_balanced_bothrf  ,importance=TRUE,mtry=4,ntree=501)\n",
    "print(rf_both)"
   ]
  },
  {
   "cell_type": "code",
   "execution_count": 176,
   "id": "3f9e1642",
   "metadata": {},
   "outputs": [
    {
     "data": {
      "text/plain": [
       "   Actual\n",
       "p2     0    1\n",
       "  0 5986  898\n",
       "  1 1023 1093"
      ]
     },
     "metadata": {},
     "output_type": "display_data"
    },
    {
     "data": {
      "text/html": [
       "0.786555555555556"
      ],
      "text/latex": [
       "0.786555555555556"
      ],
      "text/markdown": [
       "0.786555555555556"
      ],
      "text/plain": [
       "[1] 0.7865556"
      ]
     },
     "metadata": {},
     "output_type": "display_data"
    }
   ],
   "source": [
    "p2 <- predict(rf_both, test_set_random , type = 'response')\n",
    "tab2 <- table(p2, Actual = test_set_random$default_payment)\n",
    "tab2\n",
    "1-(1 - sum(diag(tab2))/sum(tab2))"
   ]
  },
  {
   "cell_type": "code",
   "execution_count": 177,
   "id": "f55debef",
   "metadata": {},
   "outputs": [
    {
     "data": {
      "text/plain": [
       "Confusion Matrix and Statistics\n",
       "\n",
       "          Reference\n",
       "Prediction    0    1\n",
       "         0 5986  898\n",
       "         1 1023 1093\n",
       "                                         \n",
       "               Accuracy : 0.7866         \n",
       "                 95% CI : (0.7779, 0.795)\n",
       "    No Information Rate : 0.7788         \n",
       "    P-Value [Acc > NIR] : 0.038356       \n",
       "                                         \n",
       "                  Kappa : 0.3942         \n",
       "                                         \n",
       " Mcnemar's Test P-Value : 0.004667       \n",
       "                                         \n",
       "            Sensitivity : 0.8540         \n",
       "            Specificity : 0.5490         \n",
       "         Pos Pred Value : 0.8696         \n",
       "         Neg Pred Value : 0.5165         \n",
       "             Prevalence : 0.7788         \n",
       "         Detection Rate : 0.6651         \n",
       "   Detection Prevalence : 0.7649         \n",
       "      Balanced Accuracy : 0.7015         \n",
       "                                         \n",
       "       'Positive' Class : 0              \n",
       "                                         "
      ]
     },
     "metadata": {},
     "output_type": "display_data"
    }
   ],
   "source": [
    "confusionMatrix(p2,test_set_random$default_payment)"
   ]
  },
  {
   "cell_type": "markdown",
   "id": "5ecacaed",
   "metadata": {},
   "source": [
    "## Observations\n",
    "\n",
    "1) Random forest model with **Under sampling technique**= OOB estimate of  error rate: 29% and sensitivity/recall is 77% <br>\n",
    "2) Random forest model with **Over sampling technique**= OOB estimate of  error rate: 5.41% and sensitivity/recall is 92% <br>\n",
    "3) Random forest model with **both sampling technique**= OOB estimate of  error rate: 6.51% and sensitivity/recall is 85% <br>\n"
   ]
  },
  {
   "cell_type": "markdown",
   "id": "0f923e1f",
   "metadata": {},
   "source": [
    "### The lowest error rate and higher recall value is from random forest with over sampling model. Hence we will proceed with this."
   ]
  },
  {
   "cell_type": "markdown",
   "id": "ad4bc3ea",
   "metadata": {},
   "source": [
    "### Using the random forest model to check which all features are important"
   ]
  },
  {
   "cell_type": "code",
   "execution_count": 36,
   "id": "1d4a50b5",
   "metadata": {},
   "outputs": [
    {
     "data": {
      "image/png": "[encoded data removed]",
      "text/plain": [
       "plot without title"
      ]
     },
     "metadata": {
      "image/png": {
       "height": 420,
       "width": 420
      }
     },
     "output_type": "display_data"
    }
   ],
   "source": [
    "varImpPlot(rf_over)"
   ]
  },
  {
   "cell_type": "code",
   "execution_count": 60,
   "id": "0a86814a",
   "metadata": {},
   "outputs": [
    {
     "data": {
      "text/html": [
       "<table class=\"dataframe\">\n",
       "<caption>A matrix: 23 × 4 of type dbl</caption>\n",
       "<thead>\n",
       "\t<tr><th></th><th scope=col>0</th><th scope=col>1</th><th scope=col>MeanDecreaseAccuracy</th><th scope=col>MeanDecreaseGini</th></tr>\n",
       "</thead>\n",
       "<tbody>\n",
       "\t<tr><th scope=row>LIMIT_BAL</th><td>  4.916027</td><td> 87.95985</td><td> 87.36338</td><td> 892.0052</td></tr>\n",
       "\t<tr><th scope=row>SEX</th><td>  1.018916</td><td> 49.35375</td><td> 49.30526</td><td> 168.5714</td></tr>\n",
       "\t<tr><th scope=row>EDUCATION</th><td>  4.041986</td><td> 55.73557</td><td> 56.07275</td><td> 294.4187</td></tr>\n",
       "\t<tr><th scope=row>MARRIAGE</th><td>  6.290881</td><td> 65.95422</td><td> 66.56972</td><td> 192.8543</td></tr>\n",
       "\t<tr><th scope=row>AGE</th><td>  8.761331</td><td>148.53888</td><td>145.23711</td><td> 870.4632</td></tr>\n",
       "\t<tr><th scope=row>PAY_0</th><td>106.202289</td><td> 87.50479</td><td>102.98853</td><td>1564.8087</td></tr>\n",
       "\t<tr><th scope=row>PAY_2</th><td> 22.277440</td><td> 52.03728</td><td> 52.93882</td><td> 677.6350</td></tr>\n",
       "\t<tr><th scope=row>PAY_3</th><td> 16.746020</td><td> 40.68877</td><td> 41.88942</td><td> 437.2429</td></tr>\n",
       "\t<tr><th scope=row>PAY_4</th><td> 23.736559</td><td> 40.72178</td><td> 42.80925</td><td> 421.9327</td></tr>\n",
       "\t<tr><th scope=row>PAY_5</th><td> 15.379853</td><td> 42.76274</td><td> 43.72202</td><td> 315.9562</td></tr>\n",
       "\t<tr><th scope=row>PAY_6</th><td> 11.611780</td><td> 50.76023</td><td> 52.65101</td><td> 301.2639</td></tr>\n",
       "\t<tr><th scope=row>BILL_AMT1</th><td>-13.869067</td><td>126.20952</td><td>133.75428</td><td> 992.6250</td></tr>\n",
       "\t<tr><th scope=row>BILL_AMT2</th><td>  9.818612</td><td>105.67887</td><td>117.59839</td><td> 884.8267</td></tr>\n",
       "\t<tr><th scope=row>BILL_AMT3</th><td> 10.535985</td><td>112.78280</td><td>123.50857</td><td> 831.3957</td></tr>\n",
       "\t<tr><th scope=row>BILL_AMT4</th><td> 16.700330</td><td>109.70000</td><td>122.74165</td><td> 806.7139</td></tr>\n",
       "\t<tr><th scope=row>BILL_AMT5</th><td>  1.932732</td><td>101.45988</td><td>110.75334</td><td> 795.5460</td></tr>\n",
       "\t<tr><th scope=row>BILL_AMT6</th><td> -3.137211</td><td>119.00442</td><td>133.04124</td><td> 794.5550</td></tr>\n",
       "\t<tr><th scope=row>PAY_AMT1</th><td> 11.857672</td><td> 81.10482</td><td> 80.23806</td><td> 871.0240</td></tr>\n",
       "\t<tr><th scope=row>PAY_AMT2</th><td>  7.583914</td><td> 81.20152</td><td> 80.22498</td><td> 841.4880</td></tr>\n",
       "\t<tr><th scope=row>PAY_AMT3</th><td> 11.091028</td><td> 73.15769</td><td> 75.46879</td><td> 796.0105</td></tr>\n",
       "\t<tr><th scope=row>PAY_AMT4</th><td>  1.988266</td><td> 74.75247</td><td> 76.12826</td><td> 736.8649</td></tr>\n",
       "\t<tr><th scope=row>PAY_AMT5</th><td> 11.184061</td><td> 76.50900</td><td> 77.59928</td><td> 701.8753</td></tr>\n",
       "\t<tr><th scope=row>PAY_AMT6</th><td>  6.703873</td><td> 81.20411</td><td> 79.52847</td><td> 761.3746</td></tr>\n",
       "</tbody>\n",
       "</table>\n"
      ],
      "text/latex": [
       "A matrix: 23 × 4 of type dbl\n",
       "\\begin{tabular}{r|llll}\n",
       "  & 0 & 1 & MeanDecreaseAccuracy & MeanDecreaseGini\\\\\n",
       "\\hline\n",
       "\tLIMIT\\_BAL &   4.916027 &  87.95985 &  87.36338 &  892.0052\\\\\n",
       "\tSEX &   1.018916 &  49.35375 &  49.30526 &  168.5714\\\\\n",
       "\tEDUCATION &   4.041986 &  55.73557 &  56.07275 &  294.4187\\\\\n",
       "\tMARRIAGE &   6.290881 &  65.95422 &  66.56972 &  192.8543\\\\\n",
       "\tAGE &   8.761331 & 148.53888 & 145.23711 &  870.4632\\\\\n",
       "\tPAY\\_0 & 106.202289 &  87.50479 & 102.98853 & 1564.8087\\\\\n",
       "\tPAY\\_2 &  22.277440 &  52.03728 &  52.93882 &  677.6350\\\\\n",
       "\tPAY\\_3 &  16.746020 &  40.68877 &  41.88942 &  437.2429\\\\\n",
       "\tPAY\\_4 &  23.736559 &  40.72178 &  42.80925 &  421.9327\\\\\n",
       "\tPAY\\_5 &  15.379853 &  42.76274 &  43.72202 &  315.9562\\\\\n",
       "\tPAY\\_6 &  11.611780 &  50.76023 &  52.65101 &  301.2639\\\\\n",
       "\tBILL\\_AMT1 & -13.869067 & 126.20952 & 133.75428 &  992.6250\\\\\n",
       "\tBILL\\_AMT2 &   9.818612 & 105.67887 & 117.59839 &  884.8267\\\\\n",
       "\tBILL\\_AMT3 &  10.535985 & 112.78280 & 123.50857 &  831.3957\\\\\n",
       "\tBILL\\_AMT4 &  16.700330 & 109.70000 & 122.74165 &  806.7139\\\\\n",
       "\tBILL\\_AMT5 &   1.932732 & 101.45988 & 110.75334 &  795.5460\\\\\n",
       "\tBILL\\_AMT6 &  -3.137211 & 119.00442 & 133.04124 &  794.5550\\\\\n",
       "\tPAY\\_AMT1 &  11.857672 &  81.10482 &  80.23806 &  871.0240\\\\\n",
       "\tPAY\\_AMT2 &   7.583914 &  81.20152 &  80.22498 &  841.4880\\\\\n",
       "\tPAY\\_AMT3 &  11.091028 &  73.15769 &  75.46879 &  796.0105\\\\\n",
       "\tPAY\\_AMT4 &   1.988266 &  74.75247 &  76.12826 &  736.8649\\\\\n",
       "\tPAY\\_AMT5 &  11.184061 &  76.50900 &  77.59928 &  701.8753\\\\\n",
       "\tPAY\\_AMT6 &   6.703873 &  81.20411 &  79.52847 &  761.3746\\\\\n",
       "\\end{tabular}\n"
      ],
      "text/markdown": [
       "\n",
       "A matrix: 23 × 4 of type dbl\n",
       "\n",
       "| <!--/--> | 0 | 1 | MeanDecreaseAccuracy | MeanDecreaseGini |\n",
       "|---|---|---|---|---|\n",
       "| LIMIT_BAL |   4.916027 |  87.95985 |  87.36338 |  892.0052 |\n",
       "| SEX |   1.018916 |  49.35375 |  49.30526 |  168.5714 |\n",
       "| EDUCATION |   4.041986 |  55.73557 |  56.07275 |  294.4187 |\n",
       "| MARRIAGE |   6.290881 |  65.95422 |  66.56972 |  192.8543 |\n",
       "| AGE |   8.761331 | 148.53888 | 145.23711 |  870.4632 |\n",
       "| PAY_0 | 106.202289 |  87.50479 | 102.98853 | 1564.8087 |\n",
       "| PAY_2 |  22.277440 |  52.03728 |  52.93882 |  677.6350 |\n",
       "| PAY_3 |  16.746020 |  40.68877 |  41.88942 |  437.2429 |\n",
       "| PAY_4 |  23.736559 |  40.72178 |  42.80925 |  421.9327 |\n",
       "| PAY_5 |  15.379853 |  42.76274 |  43.72202 |  315.9562 |\n",
       "| PAY_6 |  11.611780 |  50.76023 |  52.65101 |  301.2639 |\n",
       "| BILL_AMT1 | -13.869067 | 126.20952 | 133.75428 |  992.6250 |\n",
       "| BILL_AMT2 |   9.818612 | 105.67887 | 117.59839 |  884.8267 |\n",
       "| BILL_AMT3 |  10.535985 | 112.78280 | 123.50857 |  831.3957 |\n",
       "| BILL_AMT4 |  16.700330 | 109.70000 | 122.74165 |  806.7139 |\n",
       "| BILL_AMT5 |   1.932732 | 101.45988 | 110.75334 |  795.5460 |\n",
       "| BILL_AMT6 |  -3.137211 | 119.00442 | 133.04124 |  794.5550 |\n",
       "| PAY_AMT1 |  11.857672 |  81.10482 |  80.23806 |  871.0240 |\n",
       "| PAY_AMT2 |   7.583914 |  81.20152 |  80.22498 |  841.4880 |\n",
       "| PAY_AMT3 |  11.091028 |  73.15769 |  75.46879 |  796.0105 |\n",
       "| PAY_AMT4 |   1.988266 |  74.75247 |  76.12826 |  736.8649 |\n",
       "| PAY_AMT5 |  11.184061 |  76.50900 |  77.59928 |  701.8753 |\n",
       "| PAY_AMT6 |   6.703873 |  81.20411 |  79.52847 |  761.3746 |\n",
       "\n"
      ],
      "text/plain": [
       "          0          1         MeanDecreaseAccuracy MeanDecreaseGini\n",
       "LIMIT_BAL   4.916027  87.95985  87.36338             892.0052       \n",
       "SEX         1.018916  49.35375  49.30526             168.5714       \n",
       "EDUCATION   4.041986  55.73557  56.07275             294.4187       \n",
       "MARRIAGE    6.290881  65.95422  66.56972             192.8543       \n",
       "AGE         8.761331 148.53888 145.23711             870.4632       \n",
       "PAY_0     106.202289  87.50479 102.98853            1564.8087       \n",
       "PAY_2      22.277440  52.03728  52.93882             677.6350       \n",
       "PAY_3      16.746020  40.68877  41.88942             437.2429       \n",
       "PAY_4      23.736559  40.72178  42.80925             421.9327       \n",
       "PAY_5      15.379853  42.76274  43.72202             315.9562       \n",
       "PAY_6      11.611780  50.76023  52.65101             301.2639       \n",
       "BILL_AMT1 -13.869067 126.20952 133.75428             992.6250       \n",
       "BILL_AMT2   9.818612 105.67887 117.59839             884.8267       \n",
       "BILL_AMT3  10.535985 112.78280 123.50857             831.3957       \n",
       "BILL_AMT4  16.700330 109.70000 122.74165             806.7139       \n",
       "BILL_AMT5   1.932732 101.45988 110.75334             795.5460       \n",
       "BILL_AMT6  -3.137211 119.00442 133.04124             794.5550       \n",
       "PAY_AMT1   11.857672  81.10482  80.23806             871.0240       \n",
       "PAY_AMT2    7.583914  81.20152  80.22498             841.4880       \n",
       "PAY_AMT3   11.091028  73.15769  75.46879             796.0105       \n",
       "PAY_AMT4    1.988266  74.75247  76.12826             736.8649       \n",
       "PAY_AMT5   11.184061  76.50900  77.59928             701.8753       \n",
       "PAY_AMT6    6.703873  81.20411  79.52847             761.3746       "
      ]
     },
     "metadata": {},
     "output_type": "display_data"
    }
   ],
   "source": [
    "importance(rf_over)"
   ]
  },
  {
   "cell_type": "code",
   "execution_count": null,
   "id": "0d9e0fc9",
   "metadata": {},
   "outputs": [],
   "source": [
    "## using boruta package for feature selections"
   ]
  },
  {
   "cell_type": "code",
   "execution_count": 40,
   "id": "df268bed",
   "metadata": {},
   "outputs": [
    {
     "name": "stdout",
     "output_type": "stream",
     "text": [
      "Growing trees.. Progress: 69%. Estimated remaining time: 14 seconds.\n",
      "Computing permutation importance.. Progress: 45%. Estimated remaining time: 37 seconds.\n",
      "Computing permutation importance.. Progress: 91%. Estimated remaining time: 6 seconds.\n",
      "Growing trees.. Progress: 68%. Estimated remaining time: 14 seconds.\n",
      "Computing permutation importance.. Progress: 45%. Estimated remaining time: 37 seconds.\n",
      "Computing permutation importance.. Progress: 92%. Estimated remaining time: 5 seconds.\n",
      "Growing trees.. Progress: 69%. Estimated remaining time: 13 seconds.\n",
      "Computing permutation importance.. Progress: 46%. Estimated remaining time: 36 seconds.\n",
      "Computing permutation importance.. Progress: 92%. Estimated remaining time: 5 seconds.\n",
      "Growing trees.. Progress: 67%. Estimated remaining time: 15 seconds.\n",
      "Computing permutation importance.. Progress: 46%. Estimated remaining time: 36 seconds.\n",
      "Computing permutation importance.. Progress: 90%. Estimated remaining time: 7 seconds.\n",
      "Growing trees.. Progress: 56%. Estimated remaining time: 24 seconds.\n",
      "Computing permutation importance.. Progress: 56%. Estimated remaining time: 24 seconds.\n",
      "Growing trees.. Progress: 84%. Estimated remaining time: 5 seconds.\n",
      "Computing permutation importance.. Progress: 59%. Estimated remaining time: 21 seconds.\n",
      "Growing trees.. Progress: 84%. Estimated remaining time: 5 seconds.\n",
      "Computing permutation importance.. Progress: 58%. Estimated remaining time: 22 seconds.\n",
      "Growing trees.. Progress: 77%. Estimated remaining time: 9 seconds.\n",
      "Computing permutation importance.. Progress: 59%. Estimated remaining time: 21 seconds.\n",
      "Growing trees.. Progress: 84%. Estimated remaining time: 5 seconds.\n",
      "Computing permutation importance.. Progress: 54%. Estimated remaining time: 26 seconds.\n",
      "Growing trees.. Progress: 86%. Estimated remaining time: 5 seconds.\n",
      "Computing permutation importance.. Progress: 58%. Estimated remaining time: 22 seconds.\n",
      "Growing trees.. Progress: 88%. Estimated remaining time: 4 seconds.\n",
      "Computing permutation importance.. Progress: 65%. Estimated remaining time: 16 seconds.\n",
      "Growing trees.. Progress: 86%. Estimated remaining time: 5 seconds.\n",
      "Computing permutation importance.. Progress: 57%. Estimated remaining time: 23 seconds.\n"
     ]
    },
    {
     "data": {
      "text/html": [
       "<style>\n",
       ".list-inline {list-style: none; margin:0; padding: 0}\n",
       ".list-inline>li {display: inline-block}\n",
       ".list-inline>li:not(:last-child)::after {content: \"\\00b7\"; padding: 0 .5ex}\n",
       "</style>\n",
       "<ol class=list-inline><li>'finalDecision'</li><li>'ImpHistory'</li><li>'pValue'</li><li>'maxRuns'</li><li>'light'</li><li>'mcAdj'</li><li>'timeTaken'</li><li>'roughfixed'</li><li>'call'</li><li>'impSource'</li></ol>\n"
      ],
      "text/latex": [
       "\\begin{enumerate*}\n",
       "\\item 'finalDecision'\n",
       "\\item 'ImpHistory'\n",
       "\\item 'pValue'\n",
       "\\item 'maxRuns'\n",
       "\\item 'light'\n",
       "\\item 'mcAdj'\n",
       "\\item 'timeTaken'\n",
       "\\item 'roughfixed'\n",
       "\\item 'call'\n",
       "\\item 'impSource'\n",
       "\\end{enumerate*}\n"
      ],
      "text/markdown": [
       "1. 'finalDecision'\n",
       "2. 'ImpHistory'\n",
       "3. 'pValue'\n",
       "4. 'maxRuns'\n",
       "5. 'light'\n",
       "6. 'mcAdj'\n",
       "7. 'timeTaken'\n",
       "8. 'roughfixed'\n",
       "9. 'call'\n",
       "10. 'impSource'\n",
       "\n",
       "\n"
      ],
      "text/plain": [
       " [1] \"finalDecision\" \"ImpHistory\"    \"pValue\"        \"maxRuns\"      \n",
       " [5] \"light\"         \"mcAdj\"         \"timeTaken\"     \"roughfixed\"   \n",
       " [9] \"call\"          \"impSource\"    "
      ]
     },
     "metadata": {},
     "output_type": "display_data"
    },
    {
     "name": "stdout",
     "output_type": "stream",
     "text": [
      "Boruta performed 12 iterations in 20.41146 mins.\n",
      " 23 attributes confirmed important: AGE, BILL_AMT1, BILL_AMT2,\n",
      "BILL_AMT3, BILL_AMT4 and 18 more;\n",
      " No attributes deemed unimportant.\n"
     ]
    }
   ],
   "source": [
    "boruta_output <- Boruta(default_payment~., data=na.omit(data_balanced_overrf), doTrace=0)  \n",
    "names(boruta_output)\n",
    "print(boruta_output)"
   ]
  },
  {
   "cell_type": "code",
   "execution_count": 41,
   "id": "2cb7d526",
   "metadata": {},
   "outputs": [
    {
     "name": "stdout",
     "output_type": "stream",
     "text": [
      " [1] \"LIMIT_BAL\" \"SEX\"       \"EDUCATION\" \"MARRIAGE\"  \"AGE\"       \"PAY_0\"    \n",
      " [7] \"PAY_2\"     \"PAY_3\"     \"PAY_4\"     \"PAY_5\"     \"PAY_6\"     \"BILL_AMT1\"\n",
      "[13] \"BILL_AMT2\" \"BILL_AMT3\" \"BILL_AMT4\" \"BILL_AMT5\" \"BILL_AMT6\" \"PAY_AMT1\" \n",
      "[19] \"PAY_AMT2\"  \"PAY_AMT3\"  \"PAY_AMT4\"  \"PAY_AMT5\"  \"PAY_AMT6\" \n"
     ]
    },
    {
     "data": {
      "text/html": [
       "<table class=\"dataframe\">\n",
       "<caption>A data.frame: 23 × 6</caption>\n",
       "<thead>\n",
       "\t<tr><th></th><th scope=col>meanImp</th><th scope=col>medianImp</th><th scope=col>minImp</th><th scope=col>maxImp</th><th scope=col>normHits</th><th scope=col>decision</th></tr>\n",
       "\t<tr><th></th><th scope=col>&lt;dbl&gt;</th><th scope=col>&lt;dbl&gt;</th><th scope=col>&lt;dbl&gt;</th><th scope=col>&lt;dbl&gt;</th><th scope=col>&lt;dbl&gt;</th><th scope=col>&lt;fct&gt;</th></tr>\n",
       "</thead>\n",
       "<tbody>\n",
       "\t<tr><th scope=row>LIMIT_BAL</th><td>61.96833</td><td>61.26189</td><td>59.29634</td><td>66.64573</td><td>1</td><td>Confirmed</td></tr>\n",
       "\t<tr><th scope=row>SEX</th><td>17.93916</td><td>17.65272</td><td>16.32742</td><td>19.88181</td><td>1</td><td>Confirmed</td></tr>\n",
       "\t<tr><th scope=row>EDUCATION</th><td>22.97207</td><td>22.79910</td><td>20.55148</td><td>25.67502</td><td>1</td><td>Confirmed</td></tr>\n",
       "\t<tr><th scope=row>MARRIAGE</th><td>21.98380</td><td>22.92776</td><td>18.43186</td><td>25.06443</td><td>1</td><td>Confirmed</td></tr>\n",
       "\t<tr><th scope=row>AGE</th><td>64.01894</td><td>64.67416</td><td>56.43329</td><td>68.39550</td><td>1</td><td>Confirmed</td></tr>\n",
       "\t<tr><th scope=row>PAY_0</th><td>86.92371</td><td>86.13600</td><td>84.77719</td><td>90.15140</td><td>1</td><td>Confirmed</td></tr>\n",
       "\t<tr><th scope=row>PAY_2</th><td>45.14740</td><td>45.09901</td><td>43.46787</td><td>46.99118</td><td>1</td><td>Confirmed</td></tr>\n",
       "\t<tr><th scope=row>PAY_3</th><td>37.13609</td><td>37.40773</td><td>34.95367</td><td>38.53725</td><td>1</td><td>Confirmed</td></tr>\n",
       "\t<tr><th scope=row>PAY_4</th><td>37.88308</td><td>37.87526</td><td>36.27764</td><td>39.65920</td><td>1</td><td>Confirmed</td></tr>\n",
       "\t<tr><th scope=row>PAY_5</th><td>36.04600</td><td>36.03010</td><td>33.78099</td><td>37.12876</td><td>1</td><td>Confirmed</td></tr>\n",
       "\t<tr><th scope=row>PAY_6</th><td>41.27436</td><td>41.25344</td><td>39.50218</td><td>43.58304</td><td>1</td><td>Confirmed</td></tr>\n",
       "\t<tr><th scope=row>BILL_AMT1</th><td>73.61813</td><td>73.01261</td><td>67.45361</td><td>78.42326</td><td>1</td><td>Confirmed</td></tr>\n",
       "\t<tr><th scope=row>BILL_AMT2</th><td>70.27596</td><td>71.26882</td><td>65.15120</td><td>75.31783</td><td>1</td><td>Confirmed</td></tr>\n",
       "\t<tr><th scope=row>BILL_AMT3</th><td>69.41636</td><td>69.10047</td><td>64.61967</td><td>75.33817</td><td>1</td><td>Confirmed</td></tr>\n",
       "\t<tr><th scope=row>BILL_AMT4</th><td>65.97252</td><td>65.75410</td><td>61.47371</td><td>69.15861</td><td>1</td><td>Confirmed</td></tr>\n",
       "\t<tr><th scope=row>BILL_AMT5</th><td>65.34408</td><td>66.50205</td><td>61.06602</td><td>68.28242</td><td>1</td><td>Confirmed</td></tr>\n",
       "\t<tr><th scope=row>BILL_AMT6</th><td>66.95598</td><td>66.75716</td><td>62.16724</td><td>70.04737</td><td>1</td><td>Confirmed</td></tr>\n",
       "\t<tr><th scope=row>PAY_AMT1</th><td>56.57234</td><td>56.43389</td><td>55.01733</td><td>58.39047</td><td>1</td><td>Confirmed</td></tr>\n",
       "\t<tr><th scope=row>PAY_AMT2</th><td>55.64680</td><td>54.67293</td><td>53.48505</td><td>59.82442</td><td>1</td><td>Confirmed</td></tr>\n",
       "\t<tr><th scope=row>PAY_AMT3</th><td>57.06069</td><td>57.15306</td><td>54.79791</td><td>60.42877</td><td>1</td><td>Confirmed</td></tr>\n",
       "\t<tr><th scope=row>PAY_AMT4</th><td>52.06156</td><td>51.63511</td><td>49.19354</td><td>55.51525</td><td>1</td><td>Confirmed</td></tr>\n",
       "\t<tr><th scope=row>PAY_AMT5</th><td>50.71695</td><td>50.18306</td><td>48.77470</td><td>53.13561</td><td>1</td><td>Confirmed</td></tr>\n",
       "\t<tr><th scope=row>PAY_AMT6</th><td>53.59262</td><td>53.08123</td><td>51.43649</td><td>56.34855</td><td>1</td><td>Confirmed</td></tr>\n",
       "</tbody>\n",
       "</table>\n"
      ],
      "text/latex": [
       "A data.frame: 23 × 6\n",
       "\\begin{tabular}{r|llllll}\n",
       "  & meanImp & medianImp & minImp & maxImp & normHits & decision\\\\\n",
       "  & <dbl> & <dbl> & <dbl> & <dbl> & <dbl> & <fct>\\\\\n",
       "\\hline\n",
       "\tLIMIT\\_BAL & 61.96833 & 61.26189 & 59.29634 & 66.64573 & 1 & Confirmed\\\\\n",
       "\tSEX & 17.93916 & 17.65272 & 16.32742 & 19.88181 & 1 & Confirmed\\\\\n",
       "\tEDUCATION & 22.97207 & 22.79910 & 20.55148 & 25.67502 & 1 & Confirmed\\\\\n",
       "\tMARRIAGE & 21.98380 & 22.92776 & 18.43186 & 25.06443 & 1 & Confirmed\\\\\n",
       "\tAGE & 64.01894 & 64.67416 & 56.43329 & 68.39550 & 1 & Confirmed\\\\\n",
       "\tPAY\\_0 & 86.92371 & 86.13600 & 84.77719 & 90.15140 & 1 & Confirmed\\\\\n",
       "\tPAY\\_2 & 45.14740 & 45.09901 & 43.46787 & 46.99118 & 1 & Confirmed\\\\\n",
       "\tPAY\\_3 & 37.13609 & 37.40773 & 34.95367 & 38.53725 & 1 & Confirmed\\\\\n",
       "\tPAY\\_4 & 37.88308 & 37.87526 & 36.27764 & 39.65920 & 1 & Confirmed\\\\\n",
       "\tPAY\\_5 & 36.04600 & 36.03010 & 33.78099 & 37.12876 & 1 & Confirmed\\\\\n",
       "\tPAY\\_6 & 41.27436 & 41.25344 & 39.50218 & 43.58304 & 1 & Confirmed\\\\\n",
       "\tBILL\\_AMT1 & 73.61813 & 73.01261 & 67.45361 & 78.42326 & 1 & Confirmed\\\\\n",
       "\tBILL\\_AMT2 & 70.27596 & 71.26882 & 65.15120 & 75.31783 & 1 & Confirmed\\\\\n",
       "\tBILL\\_AMT3 & 69.41636 & 69.10047 & 64.61967 & 75.33817 & 1 & Confirmed\\\\\n",
       "\tBILL\\_AMT4 & 65.97252 & 65.75410 & 61.47371 & 69.15861 & 1 & Confirmed\\\\\n",
       "\tBILL\\_AMT5 & 65.34408 & 66.50205 & 61.06602 & 68.28242 & 1 & Confirmed\\\\\n",
       "\tBILL\\_AMT6 & 66.95598 & 66.75716 & 62.16724 & 70.04737 & 1 & Confirmed\\\\\n",
       "\tPAY\\_AMT1 & 56.57234 & 56.43389 & 55.01733 & 58.39047 & 1 & Confirmed\\\\\n",
       "\tPAY\\_AMT2 & 55.64680 & 54.67293 & 53.48505 & 59.82442 & 1 & Confirmed\\\\\n",
       "\tPAY\\_AMT3 & 57.06069 & 57.15306 & 54.79791 & 60.42877 & 1 & Confirmed\\\\\n",
       "\tPAY\\_AMT4 & 52.06156 & 51.63511 & 49.19354 & 55.51525 & 1 & Confirmed\\\\\n",
       "\tPAY\\_AMT5 & 50.71695 & 50.18306 & 48.77470 & 53.13561 & 1 & Confirmed\\\\\n",
       "\tPAY\\_AMT6 & 53.59262 & 53.08123 & 51.43649 & 56.34855 & 1 & Confirmed\\\\\n",
       "\\end{tabular}\n"
      ],
      "text/markdown": [
       "\n",
       "A data.frame: 23 × 6\n",
       "\n",
       "| <!--/--> | meanImp &lt;dbl&gt; | medianImp &lt;dbl&gt; | minImp &lt;dbl&gt; | maxImp &lt;dbl&gt; | normHits &lt;dbl&gt; | decision &lt;fct&gt; |\n",
       "|---|---|---|---|---|---|---|\n",
       "| LIMIT_BAL | 61.96833 | 61.26189 | 59.29634 | 66.64573 | 1 | Confirmed |\n",
       "| SEX | 17.93916 | 17.65272 | 16.32742 | 19.88181 | 1 | Confirmed |\n",
       "| EDUCATION | 22.97207 | 22.79910 | 20.55148 | 25.67502 | 1 | Confirmed |\n",
       "| MARRIAGE | 21.98380 | 22.92776 | 18.43186 | 25.06443 | 1 | Confirmed |\n",
       "| AGE | 64.01894 | 64.67416 | 56.43329 | 68.39550 | 1 | Confirmed |\n",
       "| PAY_0 | 86.92371 | 86.13600 | 84.77719 | 90.15140 | 1 | Confirmed |\n",
       "| PAY_2 | 45.14740 | 45.09901 | 43.46787 | 46.99118 | 1 | Confirmed |\n",
       "| PAY_3 | 37.13609 | 37.40773 | 34.95367 | 38.53725 | 1 | Confirmed |\n",
       "| PAY_4 | 37.88308 | 37.87526 | 36.27764 | 39.65920 | 1 | Confirmed |\n",
       "| PAY_5 | 36.04600 | 36.03010 | 33.78099 | 37.12876 | 1 | Confirmed |\n",
       "| PAY_6 | 41.27436 | 41.25344 | 39.50218 | 43.58304 | 1 | Confirmed |\n",
       "| BILL_AMT1 | 73.61813 | 73.01261 | 67.45361 | 78.42326 | 1 | Confirmed |\n",
       "| BILL_AMT2 | 70.27596 | 71.26882 | 65.15120 | 75.31783 | 1 | Confirmed |\n",
       "| BILL_AMT3 | 69.41636 | 69.10047 | 64.61967 | 75.33817 | 1 | Confirmed |\n",
       "| BILL_AMT4 | 65.97252 | 65.75410 | 61.47371 | 69.15861 | 1 | Confirmed |\n",
       "| BILL_AMT5 | 65.34408 | 66.50205 | 61.06602 | 68.28242 | 1 | Confirmed |\n",
       "| BILL_AMT6 | 66.95598 | 66.75716 | 62.16724 | 70.04737 | 1 | Confirmed |\n",
       "| PAY_AMT1 | 56.57234 | 56.43389 | 55.01733 | 58.39047 | 1 | Confirmed |\n",
       "| PAY_AMT2 | 55.64680 | 54.67293 | 53.48505 | 59.82442 | 1 | Confirmed |\n",
       "| PAY_AMT3 | 57.06069 | 57.15306 | 54.79791 | 60.42877 | 1 | Confirmed |\n",
       "| PAY_AMT4 | 52.06156 | 51.63511 | 49.19354 | 55.51525 | 1 | Confirmed |\n",
       "| PAY_AMT5 | 50.71695 | 50.18306 | 48.77470 | 53.13561 | 1 | Confirmed |\n",
       "| PAY_AMT6 | 53.59262 | 53.08123 | 51.43649 | 56.34855 | 1 | Confirmed |\n",
       "\n"
      ],
      "text/plain": [
       "          meanImp  medianImp minImp   maxImp   normHits decision \n",
       "LIMIT_BAL 61.96833 61.26189  59.29634 66.64573 1        Confirmed\n",
       "SEX       17.93916 17.65272  16.32742 19.88181 1        Confirmed\n",
       "EDUCATION 22.97207 22.79910  20.55148 25.67502 1        Confirmed\n",
       "MARRIAGE  21.98380 22.92776  18.43186 25.06443 1        Confirmed\n",
       "AGE       64.01894 64.67416  56.43329 68.39550 1        Confirmed\n",
       "PAY_0     86.92371 86.13600  84.77719 90.15140 1        Confirmed\n",
       "PAY_2     45.14740 45.09901  43.46787 46.99118 1        Confirmed\n",
       "PAY_3     37.13609 37.40773  34.95367 38.53725 1        Confirmed\n",
       "PAY_4     37.88308 37.87526  36.27764 39.65920 1        Confirmed\n",
       "PAY_5     36.04600 36.03010  33.78099 37.12876 1        Confirmed\n",
       "PAY_6     41.27436 41.25344  39.50218 43.58304 1        Confirmed\n",
       "BILL_AMT1 73.61813 73.01261  67.45361 78.42326 1        Confirmed\n",
       "BILL_AMT2 70.27596 71.26882  65.15120 75.31783 1        Confirmed\n",
       "BILL_AMT3 69.41636 69.10047  64.61967 75.33817 1        Confirmed\n",
       "BILL_AMT4 65.97252 65.75410  61.47371 69.15861 1        Confirmed\n",
       "BILL_AMT5 65.34408 66.50205  61.06602 68.28242 1        Confirmed\n",
       "BILL_AMT6 66.95598 66.75716  62.16724 70.04737 1        Confirmed\n",
       "PAY_AMT1  56.57234 56.43389  55.01733 58.39047 1        Confirmed\n",
       "PAY_AMT2  55.64680 54.67293  53.48505 59.82442 1        Confirmed\n",
       "PAY_AMT3  57.06069 57.15306  54.79791 60.42877 1        Confirmed\n",
       "PAY_AMT4  52.06156 51.63511  49.19354 55.51525 1        Confirmed\n",
       "PAY_AMT5  50.71695 50.18306  48.77470 53.13561 1        Confirmed\n",
       "PAY_AMT6  53.59262 53.08123  51.43649 56.34855 1        Confirmed"
      ]
     },
     "metadata": {},
     "output_type": "display_data"
    }
   ],
   "source": [
    "# Get significant variables including tentatives\n",
    "boruta_signif <- getSelectedAttributes(boruta_output, withTentative = TRUE)\n",
    "print(boruta_signif)  \n",
    "attStats(boruta_output)"
   ]
  },
  {
   "cell_type": "code",
   "execution_count": 42,
   "id": "6f565fab",
   "metadata": {},
   "outputs": [
    {
     "name": "stderr",
     "output_type": "stream",
     "text": [
      "Warning message in TentativeRoughFix(boruta_output):\n",
      "\"There are no Tentative attributes! Returning original object.\"\n"
     ]
    },
    {
     "name": "stdout",
     "output_type": "stream",
     "text": [
      " [1] \"LIMIT_BAL\" \"SEX\"       \"EDUCATION\" \"MARRIAGE\"  \"AGE\"       \"PAY_0\"    \n",
      " [7] \"PAY_2\"     \"PAY_3\"     \"PAY_4\"     \"PAY_5\"     \"PAY_6\"     \"BILL_AMT1\"\n",
      "[13] \"BILL_AMT2\" \"BILL_AMT3\" \"BILL_AMT4\" \"BILL_AMT5\" \"BILL_AMT6\" \"PAY_AMT1\" \n",
      "[19] \"PAY_AMT2\"  \"PAY_AMT3\"  \"PAY_AMT4\"  \"PAY_AMT5\"  \"PAY_AMT6\" \n"
     ]
    }
   ],
   "source": [
    "# Do a tentative rough fix\n",
    "roughFixMod <- TentativeRoughFix(boruta_output)\n",
    "boruta_signif <- getSelectedAttributes(roughFixMod)\n",
    "print(boruta_signif)"
   ]
  },
  {
   "cell_type": "code",
   "execution_count": 43,
   "id": "0eef5a8c",
   "metadata": {},
   "outputs": [
    {
     "data": {
      "text/html": [
       "<table class=\"dataframe\">\n",
       "<caption>A data.frame: 6 × 2</caption>\n",
       "<thead>\n",
       "\t<tr><th></th><th scope=col>meanImp</th><th scope=col>decision</th></tr>\n",
       "\t<tr><th></th><th scope=col>&lt;dbl&gt;</th><th scope=col>&lt;fct&gt;</th></tr>\n",
       "</thead>\n",
       "<tbody>\n",
       "\t<tr><th scope=row>PAY_0</th><td>86.92371</td><td>Confirmed</td></tr>\n",
       "\t<tr><th scope=row>BILL_AMT1</th><td>73.61813</td><td>Confirmed</td></tr>\n",
       "\t<tr><th scope=row>BILL_AMT2</th><td>70.27596</td><td>Confirmed</td></tr>\n",
       "\t<tr><th scope=row>BILL_AMT3</th><td>69.41636</td><td>Confirmed</td></tr>\n",
       "\t<tr><th scope=row>BILL_AMT6</th><td>66.95598</td><td>Confirmed</td></tr>\n",
       "\t<tr><th scope=row>BILL_AMT4</th><td>65.97252</td><td>Confirmed</td></tr>\n",
       "</tbody>\n",
       "</table>\n"
      ],
      "text/latex": [
       "A data.frame: 6 × 2\n",
       "\\begin{tabular}{r|ll}\n",
       "  & meanImp & decision\\\\\n",
       "  & <dbl> & <fct>\\\\\n",
       "\\hline\n",
       "\tPAY\\_0 & 86.92371 & Confirmed\\\\\n",
       "\tBILL\\_AMT1 & 73.61813 & Confirmed\\\\\n",
       "\tBILL\\_AMT2 & 70.27596 & Confirmed\\\\\n",
       "\tBILL\\_AMT3 & 69.41636 & Confirmed\\\\\n",
       "\tBILL\\_AMT6 & 66.95598 & Confirmed\\\\\n",
       "\tBILL\\_AMT4 & 65.97252 & Confirmed\\\\\n",
       "\\end{tabular}\n"
      ],
      "text/markdown": [
       "\n",
       "A data.frame: 6 × 2\n",
       "\n",
       "| <!--/--> | meanImp &lt;dbl&gt; | decision &lt;fct&gt; |\n",
       "|---|---|---|\n",
       "| PAY_0 | 86.92371 | Confirmed |\n",
       "| BILL_AMT1 | 73.61813 | Confirmed |\n",
       "| BILL_AMT2 | 70.27596 | Confirmed |\n",
       "| BILL_AMT3 | 69.41636 | Confirmed |\n",
       "| BILL_AMT6 | 66.95598 | Confirmed |\n",
       "| BILL_AMT4 | 65.97252 | Confirmed |\n",
       "\n"
      ],
      "text/plain": [
       "          meanImp  decision \n",
       "PAY_0     86.92371 Confirmed\n",
       "BILL_AMT1 73.61813 Confirmed\n",
       "BILL_AMT2 70.27596 Confirmed\n",
       "BILL_AMT3 69.41636 Confirmed\n",
       "BILL_AMT6 66.95598 Confirmed\n",
       "BILL_AMT4 65.97252 Confirmed"
      ]
     },
     "metadata": {},
     "output_type": "display_data"
    }
   ],
   "source": [
    "# Variable Importance Scores\n",
    "imps <- attStats(roughFixMod)\n",
    "imps2 = imps[imps$decision != 'Rejected', c('meanImp', 'decision')]\n",
    "head(imps2[order(-imps2$meanImp), ])  # descending sort"
   ]
  },
  {
   "cell_type": "code",
   "execution_count": 44,
   "id": "0be757a2",
   "metadata": {},
   "outputs": [
    {
     "data": {
      "image/png": "[encoded data removed]",
      "text/plain": [
       "Plot with title \"Variable Importance\""
      ]
     },
     "metadata": {
      "image/png": {
       "height": 420,
       "width": 420
      }
     },
     "output_type": "display_data"
    }
   ],
   "source": [
    "plot(boruta_output, cex.axis=.7, las=2, xlab=\"\", main=\"Variable Importance\")"
   ]
  },
  {
   "cell_type": "markdown",
   "id": "11af9ed8",
   "metadata": {},
   "source": [
    "#### Considering all the above methods, we will exclude the last 5 features that are PAY_2,PAY_3,PAY_4,PAY_5,PAY_6"
   ]
  },
  {
   "cell_type": "markdown",
   "id": "ea7fe0c6",
   "metadata": {},
   "source": [
    "### Hyper parameter tuning\n",
    "\n",
    "1) We will tune the paramters of the model in order to see if the accuracy can be improve or not."
   ]
  },
  {
   "cell_type": "code",
   "execution_count": 63,
   "id": "427577f2",
   "metadata": {},
   "outputs": [
    {
     "data": {
      "image/png": "[encoded data removed]",
      "text/plain": [
       "Plot with title \"rf_over\""
      ]
     },
     "metadata": {
      "image/png": {
       "height": 420,
       "width": 420
      }
     },
     "output_type": "display_data"
    }
   ],
   "source": [
    "plot(rf_over) #error rate of rf"
   ]
  },
  {
   "cell_type": "code",
   "execution_count": 31,
   "id": "a8959a4b",
   "metadata": {},
   "outputs": [
    {
     "name": "stdout",
     "output_type": "stream",
     "text": [
      "mtry = 4  OOB error = 18.15% \n",
      "Searching left ...\n",
      "mtry = 8 \tOOB error = 18.19% \n",
      "-0.002098636 0.05 \n",
      "Searching right ...\n",
      "mtry = 2 \tOOB error = 18.28% \n",
      "-0.007082896 0.05 \n"
     ]
    },
    {
     "data": {
      "image/png": "[encoded data removed]",
      "text/plain": [
       "plot without title"
      ]
     },
     "metadata": {
      "image/png": {
       "height": 420,
       "width": 420
      }
     },
     "output_type": "display_data"
    }
   ],
   "source": [
    "t <- tuneRF(training_set_random[,-24],training_set_random[,24],stepFactor=0.5\n",
    "            ,plot=TRUE,ntreeTry=301\n",
    "            ,trace=TRUE,improve=0.05) "
   ]
  },
  {
   "cell_type": "code",
   "execution_count": 34,
   "id": "ef82e999",
   "metadata": {},
   "outputs": [
    {
     "name": "stdout",
     "output_type": "stream",
     "text": [
      "mtry = 4  OOB error = 18.15% \n",
      "Searching left ...\n",
      "mtry = 8 \tOOB error = 18.17% \n",
      "-0.0007869885 0.05 \n",
      "Searching right ...\n",
      "mtry = 2 \tOOB error = 18.19% \n",
      "-0.002098636 0.05 \n"
     ]
    },
    {
     "data": {
      "image/png": "[encoded data removed]",
      "text/plain": [
       "plot without title"
      ]
     },
     "metadata": {
      "image/png": {
       "height": 420,
       "width": 420
      }
     },
     "output_type": "display_data"
    }
   ],
   "source": [
    "t <- tuneRF(training_set_random[,-24],training_set_random[,24],stepFactor=0.5\n",
    "            ,plot=TRUE,ntreeTry=2906\n",
    "            ,trace=TRUE,improve=0.05) "
   ]
  },
  {
   "cell_type": "code",
   "execution_count": 134,
   "id": "43746a95",
   "metadata": {},
   "outputs": [
    {
     "data": {
      "image/png": "[encoded data removed]",
      "text/plain": [
       "plot without title"
      ]
     },
     "metadata": {
      "image/png": {
       "height": 420,
       "width": 420
      }
     },
     "output_type": "display_data"
    }
   ],
   "source": [
    "varImpPlot(rf_over,sort=T,n.var=23,main=\"Top 10 Variable Importance\")"
   ]
  },
  {
   "cell_type": "code",
   "execution_count": null,
   "id": "c0b01db6",
   "metadata": {},
   "outputs": [],
   "source": [
    "## automated hyper parameter tuning"
   ]
  },
  {
   "cell_type": "code",
   "execution_count": 75,
   "id": "6d8d84e0",
   "metadata": {},
   "outputs": [
    {
     "name": "stdout",
     "output_type": "stream",
     "text": [
      "package 'mlr' successfully unpacked and MD5 sums checked\n",
      "\n",
      "The downloaded binary packages are in\n",
      "\tC:\\Users\\LENOVO\\AppData\\Local\\Temp\\Rtmp4GiStn\\downloaded_packages\n"
     ]
    },
    {
     "name": "stderr",
     "output_type": "stream",
     "text": [
      "Loading required package: ParamHelpers\n",
      "\n",
      "Warning message: 'mlr' is in 'maintenance-only' mode since July 2019.\n",
      "Future development will only happen in 'mlr3'\n",
      "(<https://mlr3.mlr-org.com>). Due to the focus on 'mlr3' there might be\n",
      "uncaught bugs meanwhile in {mlr} - please consider switching.\n",
      "\n",
      "\n",
      "Attaching package: 'mlr'\n",
      "\n",
      "\n",
      "The following object is masked _by_ '.GlobalEnv':\n",
      "\n",
      "    acc\n",
      "\n",
      "\n",
      "The following object is masked from 'package:ROCR':\n",
      "\n",
      "    performance\n",
      "\n",
      "\n",
      "The following object is masked from 'package:caret':\n",
      "\n",
      "    train\n",
      "\n",
      "\n"
     ]
    }
   ],
   "source": [
    "install.packages(\"mlr\")\n",
    "library(mlr)"
   ]
  },
  {
   "cell_type": "code",
   "execution_count": 76,
   "id": "50293723",
   "metadata": {},
   "outputs": [],
   "source": [
    "#create a task\n",
    "traintask <- makeClassifTask(data=data_balanced_overrf,target = \"default_payment\")\n"
   ]
  },
  {
   "cell_type": "code",
   "execution_count": 83,
   "id": "9570a093",
   "metadata": {},
   "outputs": [],
   "source": [
    "rf <- makeLearner(\"classif.randomForest\",predict.type=\"response\",par.vals=list(ntree=floor(0.1*nrow(data_balanced_overrf)),\n",
    "                 mtry=floor((ncol(data_balanced_overrf)-1)/3)))\n"
   ]
  },
  {
   "cell_type": "code",
   "execution_count": 97,
   "id": "4c513eff",
   "metadata": {},
   "outputs": [
    {
     "ename": "ERROR",
     "evalue": "Error in parse(text = x, srcfile = src): <text>:2:63: unexpected ')'\n1: rf <- makeLearner(\"classif.randomForest\",predict.type=\"response\",par.vals=list(ntree=floor(1000)),\n2:                  mtry=floor((ncol(data_balanced_overrf)-1)/3)))\n                                                                 ^\n",
     "output_type": "error",
     "traceback": [
      "Error in parse(text = x, srcfile = src): <text>:2:63: unexpected ')'\n1: rf <- makeLearner(\"classif.randomForest\",predict.type=\"response\",par.vals=list(ntree=floor(1000)),\n2:                  mtry=floor((ncol(data_balanced_overrf)-1)/3)))\n                                                                 ^\nTraceback:\n"
     ]
    }
   ],
   "source": [
    "rf <- makeLearner(\"classif.randomForest\",predict.type=\"response\",par.vals=list(ntree=floor(1000)),\n",
    "                 mtry=floor((ncol(data_balanced_overrf)-1)/3)))"
   ]
  },
  {
   "cell_type": "code",
   "execution_count": 84,
   "id": "71a088aa",
   "metadata": {},
   "outputs": [],
   "source": [
    "rf$par.vals <- list(importance=TRUE)"
   ]
  },
  {
   "cell_type": "code",
   "execution_count": 79,
   "id": "fa9b0045",
   "metadata": {},
   "outputs": [],
   "source": [
    "rf_param <- makeParamSet(\n",
    "             makeIntegerParam(\"ntree\",lower=10,upper=floor(0.1*nrow(data_balanced_overrf))),\n",
    "    makeIntegerParam(\"mtry\",lower=floor((ncol(data_balanced_overrf)-1)/3),\n",
    "                     upper=ncol(data_balanced_overrf)))"
   ]
  },
  {
   "cell_type": "code",
   "execution_count": 80,
   "id": "2ae40298",
   "metadata": {},
   "outputs": [],
   "source": [
    "rancontrol <- makeTuneControlRandom(maxit=10L)\n"
   ]
  },
  {
   "cell_type": "code",
   "execution_count": 81,
   "id": "99a1c0b1",
   "metadata": {},
   "outputs": [],
   "source": [
    "set_cv <- makeResampleDesc(\"CV\",iters=3L)"
   ]
  },
  {
   "cell_type": "code",
   "execution_count": 96,
   "id": "6b5062b4",
   "metadata": {},
   "outputs": [
    {
     "name": "stderr",
     "output_type": "stream",
     "text": [
      "[Tune] Started tuning learner classif.randomForest for parameter set:\n",
      "\n",
      "         Type len Def         Constr Req Tunable Trafo\n",
      "ntree integer   -   - 10 to 3.27e+03   -    TRUE     -\n",
      "mtry  integer   -   -        7 to 24   -    TRUE     -\n",
      "\n",
      "With control class: TuneControlRandom\n",
      "\n",
      "Imputation value: 1\n",
      "\n",
      "[Tune-x] 1: ntree=2906; mtry=15\n",
      "\n",
      "[Tune-y] 1: mmce.test.mean=0.0808976; time: 25.6 min\n",
      "\n",
      "[Tune-x] 2: ntree=2123; mtry=14\n",
      "\n",
      "[Tune-y] 2: mmce.test.mean=0.0809281; time: 18.7 min\n",
      "\n",
      "[Tune-x] 3: ntree=3086; mtry=18\n",
      "\n",
      "[Tune-y] 3: mmce.test.mean=0.0810810; time: 28.3 min\n",
      "\n",
      "[Tune-x] 4: ntree=707; mtry=8\n",
      "\n",
      "[Tune-y] 4: mmce.test.mean=0.0826097; time: 5.9 min\n",
      "\n",
      "[Tune-x] 5: ntree=1616; mtry=24\n",
      "\n",
      "Warning message in randomForest.default(m, y, ...):\n",
      "\"invalid mtry: reset to within valid range\"\n",
      "Warning message in randomForest.default(m, y, ...):\n",
      "\"invalid mtry: reset to within valid range\"\n",
      "Warning message in randomForest.default(m, y, ...):\n",
      "\"invalid mtry: reset to within valid range\"\n",
      "[Tune-y] 5: mmce.test.mean=0.0816619; time: 15.6 min\n",
      "\n",
      "[Tune-x] 6: ntree=445; mtry=9\n",
      "\n",
      "[Tune-y] 6: mmce.test.mean=0.0822428; time: 3.7 min\n",
      "\n",
      "[Tune-x] 7: ntree=1762; mtry=7\n",
      "\n",
      "[Tune-y] 7: mmce.test.mean=0.0828543; time: 14.3 min\n",
      "\n",
      "[Tune-x] 8: ntree=2634; mtry=8\n",
      "\n",
      "[Tune-y] 8: mmce.test.mean=0.0823346; time: 22.1 min\n",
      "\n",
      "[Tune-x] 9: ntree=2491; mtry=24\n",
      "\n",
      "Warning message in randomForest.default(m, y, ...):\n",
      "\"invalid mtry: reset to within valid range\"\n",
      "Warning message in randomForest.default(m, y, ...):\n",
      "\"invalid mtry: reset to within valid range\"\n",
      "Warning message in randomForest.default(m, y, ...):\n",
      "\"invalid mtry: reset to within valid range\"\n",
      "[Tune-y] 9: mmce.test.mean=0.0816925; time: 24.0 min\n",
      "\n",
      "[Tune-x] 10: ntree=2716; mtry=19\n",
      "\n",
      "[Tune-y] 10: mmce.test.mean=0.0812951; time: 25.0 min\n",
      "\n",
      "[Tune] Result: ntree=2906; mtry=15 : mmce.test.mean=0.0808976\n",
      "\n"
     ]
    }
   ],
   "source": [
    "#rf_tune <- tuneParams(learner=rf,\n",
    "                      #resampling=set_cv,\n",
    "                      #task=traintask,\n",
    "                      #par.set=rf_param,\n",
    "                      #control=rancontrol,\n",
    "                      #measures=mmce)"
   ]
  },
  {
   "cell_type": "markdown",
   "id": "e8478725",
   "metadata": {},
   "source": [
    "### Now that we have tuned the paramters and selected the importance features for our model our model. Selected no of trees=301 and mtry=4\n",
    "\n",
    "### Let's see if we can increase the accuracy of the model after making some changes."
   ]
  },
  {
   "cell_type": "code",
   "execution_count": 180,
   "id": "ed634bd7",
   "metadata": {},
   "outputs": [
    {
     "name": "stdout",
     "output_type": "stream",
     "text": [
      "\n",
      "Call:\n",
      " randomForest(formula = default_payment ~ . - PAY_2 - PAY_6 -      PAY_5 - PAY_4 - PAY_3, data = data_balanced_overrf, importance = TRUE,      mtry = 4, ntree = 301) \n",
      "               Type of random forest: classification\n",
      "                     Number of trees: 301\n",
      "No. of variables tried at each split: 4\n",
      "\n",
      "        OOB estimate of  error rate: 4.95%\n",
      "Confusion matrix:\n",
      "      0     1 class.error\n",
      "0 15009  1345  0.08224288\n",
      "1   275 16079  0.01681546\n"
     ]
    }
   ],
   "source": [
    "rf_over <- randomForest(default_payment~.-PAY_2-PAY_6-PAY_5-PAY_4-PAY_3,data =data_balanced_overrf  ,importance=TRUE,mtry=4,ntree=301)\n",
    "print(rf_over)"
   ]
  },
  {
   "cell_type": "code",
   "execution_count": 181,
   "id": "050415cf",
   "metadata": {},
   "outputs": [
    {
     "data": {
      "text/plain": [
       "   Actual\n",
       "p2     0    1\n",
       "  0 6439 1142\n",
       "  1  570  849"
      ]
     },
     "metadata": {},
     "output_type": "display_data"
    },
    {
     "data": {
      "text/html": [
       "0.809777777777778"
      ],
      "text/latex": [
       "0.809777777777778"
      ],
      "text/markdown": [
       "0.809777777777778"
      ],
      "text/plain": [
       "[1] 0.8097778"
      ]
     },
     "metadata": {},
     "output_type": "display_data"
    }
   ],
   "source": [
    "p2 <- predict(rf_over, test_set_random , type = 'response')\n",
    "tab2 <- table(p2, Actual = test_set_random$default_payment)\n",
    "tab2\n",
    "1-(1 - sum(diag(tab2))/sum(tab2))\n",
    "#recall = 0.92"
   ]
  },
  {
   "cell_type": "code",
   "execution_count": 182,
   "id": "0c303ee3",
   "metadata": {},
   "outputs": [
    {
     "data": {
      "text/plain": [
       "Confusion Matrix and Statistics\n",
       "\n",
       "          Reference\n",
       "Prediction    0    1\n",
       "         0 6439 1142\n",
       "         1  570  849\n",
       "                                          \n",
       "               Accuracy : 0.8098          \n",
       "                 95% CI : (0.8015, 0.8178)\n",
       "    No Information Rate : 0.7788          \n",
       "    P-Value [Acc > NIR] : 3.075e-13       \n",
       "                                          \n",
       "                  Kappa : 0.3847          \n",
       "                                          \n",
       " Mcnemar's Test P-Value : < 2.2e-16       \n",
       "                                          \n",
       "            Sensitivity : 0.9187          \n",
       "            Specificity : 0.4264          \n",
       "         Pos Pred Value : 0.8494          \n",
       "         Neg Pred Value : 0.5983          \n",
       "             Prevalence : 0.7788          \n",
       "         Detection Rate : 0.7154          \n",
       "   Detection Prevalence : 0.8423          \n",
       "      Balanced Accuracy : 0.6725          \n",
       "                                          \n",
       "       'Positive' Class : 0               \n",
       "                                          "
      ]
     },
     "metadata": {},
     "output_type": "display_data"
    }
   ],
   "source": [
    "confusionMatrix(p2,test_set_random$default_payment)"
   ]
  },
  {
   "cell_type": "markdown",
   "id": "5229c518",
   "metadata": {},
   "source": [
    "## Observations\n",
    "\n",
    "1) We can observe that the sensitivity/recall for random forest using oversampling technique is higher than the rest of the models and Logistics model that we have used.<br> \n",
    "2) After the hyper parameter tuning and feature selection, the sensitivity value has slighly increased but did not made a big impact.( 0.9073 to 0.9187)<br>\n",
    "\n",
    "Therefore our final model has the recall value around 92%. "
   ]
  }
 ],
 "metadata": {
  "kernelspec": {
   "display_name": "R",
   "language": "R",
   "name": "ir"
  },
  "language_info": {
   "codemirror_mode": "r",
   "file_extension": ".r",
   "mimetype": "text/x-r-source",
   "name": "R",
   "pygments_lexer": "r",
   "version": "4.1.3"
  }
 },
 "nbformat": 4,
 "nbformat_minor": 5
}
